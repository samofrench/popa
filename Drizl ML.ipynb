{
 "cells": [
  {
   "cell_type": "code",
   "execution_count": 1,
   "metadata": {
    "collapsed": true
   },
   "outputs": [],
   "source": [
    "import graphlab as gl"
   ]
  },
  {
   "cell_type": "code",
   "execution_count": 2,
   "metadata": {
    "collapsed": true
   },
   "outputs": [],
   "source": [
    "import json,httplib,urllib"
   ]
  },
  {
   "cell_type": "code",
   "execution_count": 3,
   "metadata": {
    "collapsed": true
   },
   "outputs": [],
   "source": [
    "connection = httplib.HTTPSConnection('api.parse.com', 443)\n",
    "params = urllib.urlencode({\"limit\":1000})\n",
    "connection.connect()"
   ]
  },
  {
   "cell_type": "code",
   "execution_count": 4,
   "metadata": {
    "collapsed": true
   },
   "outputs": [],
   "source": [
    "connection.request('GET', '/1/classes/Artwork?%s' % params, '', {\n",
    "       \"X-Parse-Application-Id\": \"CzDFFJj9HWgZpbeH35snFqUxhta3OT7mrvEPcaPe\",\n",
    "       \"X-Parse-REST-API-Key\": \"dD0Kuvi4Tzucit7Q5QDG4ncEsXCV7iJat56vZUw6\"\n",
    "     })"
   ]
  },
  {
   "cell_type": "code",
   "execution_count": 5,
   "metadata": {
    "collapsed": true
   },
   "outputs": [],
   "source": [
    "result = json.loads(connection.getresponse().read())"
   ]
  },
  {
   "cell_type": "code",
   "execution_count": 17,
   "metadata": {
    "collapsed": false,
    "scrolled": true
   },
   "outputs": [],
   "source": [
    "url_list = []\n",
    "ourResult = result['results']"
   ]
  },
  {
   "cell_type": "code",
   "execution_count": 22,
   "metadata": {
    "collapsed": false
   },
   "outputs": [],
   "source": [
    "for i in ourResult:\n",
    "    j = i['image']\n",
    "    if (\"png\" in j) or (\"jpg\" in j):\n",
    "        j = j.replace(\"png\", \"jpg\")\n",
    "        url_list.append(j.replace(\"upload/\", \"upload/c_fill,g_center,h_256,w_256/\"))"
   ]
  },
  {
   "cell_type": "code",
   "execution_count": 23,
   "metadata": {
    "collapsed": false
   },
   "outputs": [
    {
     "name": "stderr",
     "output_type": "stream",
     "text": [
      "2016-04-28 22:00:24,204 [INFO] graphlab.cython.cy_server, 176: GraphLab Create v1.9 started. Logging: C:\\Users\\drizl\\AppData\\Local\\Temp\\2\\graphlab_server_1461880823.log.0\n"
     ]
    },
    {
     "name": "stdout",
     "output_type": "stream",
     "text": [
      "This trial license of GraphLab Create is assigned to dato@rc.drizl.co and will expire on May 28, 2016. Please contact trial@dato.com for licensing options or to request a free non-commercial license for personal or academic use.\n"
     ]
    }
   ],
   "source": [
    "url_sarray = gl.SArray(url_list)"
   ]
  },
  {
   "cell_type": "code",
   "execution_count": 24,
   "metadata": {
    "collapsed": false
   },
   "outputs": [
    {
     "data": {
      "text/html": [
       "<pre>Downloading https://res.cloudinary.com/drizlalpha/image/upload/c_fill,g_center,h_256,w_256/v1461790869/tcoyle/art/sxryiysuhqndcxb1zsuz.jpg to C:/Users/drizl/AppData/Local/Temp/2/graphlab-drizl/4408/facfb9df-b478-4906-9e7d-f2fddcad9154.jpg</pre>"
      ],
      "text/plain": [
       "Downloading https://res.cloudinary.com/drizlalpha/image/upload/c_fill,g_center,h_256,w_256/v1461790869/tcoyle/art/sxryiysuhqndcxb1zsuz.jpg to C:/Users/drizl/AppData/Local/Temp/2/graphlab-drizl/4408/facfb9df-b478-4906-9e7d-f2fddcad9154.jpg"
      ]
     },
     "metadata": {},
     "output_type": "display_data"
    },
    {
     "data": {
      "text/html": [
       "<pre>Downloading https://res.cloudinary.com/artstudiospace/image/upload/c_fill,g_center,h_256,w_256/v1453202561/admin/art/beadquoyvpvruny3f0cp.jpg to C:/Users/drizl/AppData/Local/Temp/2/graphlab-drizl/4408/8cc3c638-5aad-4843-8925-5cad05530cf9.jpg</pre>"
      ],
      "text/plain": [
       "Downloading https://res.cloudinary.com/artstudiospace/image/upload/c_fill,g_center,h_256,w_256/v1453202561/admin/art/beadquoyvpvruny3f0cp.jpg to C:/Users/drizl/AppData/Local/Temp/2/graphlab-drizl/4408/8cc3c638-5aad-4843-8925-5cad05530cf9.jpg"
      ]
     },
     "metadata": {},
     "output_type": "display_data"
    },
    {
     "data": {
      "text/html": [
       "<pre>Downloading https://res.cloudinary.com/artstudiospace/image/upload/c_fill,g_center,h_256,w_256/v1453202599/admin/art/ynz3xfi173cd8y4rfdpc.jpg to C:/Users/drizl/AppData/Local/Temp/2/graphlab-drizl/4408/2044725a-b457-4e51-a276-28b33fb6e266.jpg</pre>"
      ],
      "text/plain": [
       "Downloading https://res.cloudinary.com/artstudiospace/image/upload/c_fill,g_center,h_256,w_256/v1453202599/admin/art/ynz3xfi173cd8y4rfdpc.jpg to C:/Users/drizl/AppData/Local/Temp/2/graphlab-drizl/4408/2044725a-b457-4e51-a276-28b33fb6e266.jpg"
      ]
     },
     "metadata": {},
     "output_type": "display_data"
    },
    {
     "data": {
      "text/html": [
       "<pre>Downloading https://res.cloudinary.com/artstudiospace/image/upload/c_fill,g_center,h_256,w_256/v1453202620/admin/art/xsiyh30cos30oui9lqdh.jpg to C:/Users/drizl/AppData/Local/Temp/2/graphlab-drizl/4408/7c550a42-610e-45c0-a494-72d3651d8210.jpg</pre>"
      ],
      "text/plain": [
       "Downloading https://res.cloudinary.com/artstudiospace/image/upload/c_fill,g_center,h_256,w_256/v1453202620/admin/art/xsiyh30cos30oui9lqdh.jpg to C:/Users/drizl/AppData/Local/Temp/2/graphlab-drizl/4408/7c550a42-610e-45c0-a494-72d3651d8210.jpg"
      ]
     },
     "metadata": {},
     "output_type": "display_data"
    },
    {
     "data": {
      "text/html": [
       "<pre>Downloading https://res.cloudinary.com/artstudiospace/image/upload/c_fill,g_center,h_256,w_256/v1453202634/admin/art/jr4natfkpq3dwmko0rox.jpg to C:/Users/drizl/AppData/Local/Temp/2/graphlab-drizl/4408/e671ccc5-e805-4927-89a5-160133d5cd8f.jpg</pre>"
      ],
      "text/plain": [
       "Downloading https://res.cloudinary.com/artstudiospace/image/upload/c_fill,g_center,h_256,w_256/v1453202634/admin/art/jr4natfkpq3dwmko0rox.jpg to C:/Users/drizl/AppData/Local/Temp/2/graphlab-drizl/4408/e671ccc5-e805-4927-89a5-160133d5cd8f.jpg"
      ]
     },
     "metadata": {},
     "output_type": "display_data"
    },
    {
     "data": {
      "text/html": [
       "<pre>Downloading https://res.cloudinary.com/artstudiospace/image/upload/c_fill,g_center,h_256,w_256/v1453202660/admin/art/y1raovmm4y53fijaqowb.jpg to C:/Users/drizl/AppData/Local/Temp/2/graphlab-drizl/4408/d85b2161-ec4c-472b-a1b7-bc1fd5f929e1.jpg</pre>"
      ],
      "text/plain": [
       "Downloading https://res.cloudinary.com/artstudiospace/image/upload/c_fill,g_center,h_256,w_256/v1453202660/admin/art/y1raovmm4y53fijaqowb.jpg to C:/Users/drizl/AppData/Local/Temp/2/graphlab-drizl/4408/d85b2161-ec4c-472b-a1b7-bc1fd5f929e1.jpg"
      ]
     },
     "metadata": {},
     "output_type": "display_data"
    },
    {
     "data": {
      "text/html": [
       "<pre>Downloading https://res.cloudinary.com/artstudiospace/image/upload/c_fill,g_center,h_256,w_256/v1453202678/admin/art/qi3lajocfk9gjcky7ccc.jpg to C:/Users/drizl/AppData/Local/Temp/2/graphlab-drizl/4408/cde8e710-bb98-473e-8c52-a7c7a009da03.jpg</pre>"
      ],
      "text/plain": [
       "Downloading https://res.cloudinary.com/artstudiospace/image/upload/c_fill,g_center,h_256,w_256/v1453202678/admin/art/qi3lajocfk9gjcky7ccc.jpg to C:/Users/drizl/AppData/Local/Temp/2/graphlab-drizl/4408/cde8e710-bb98-473e-8c52-a7c7a009da03.jpg"
      ]
     },
     "metadata": {},
     "output_type": "display_data"
    },
    {
     "data": {
      "text/html": [
       "<pre>Downloading https://res.cloudinary.com/artstudiospace/image/upload/c_fill,g_center,h_256,w_256/v1453202689/admin/art/nxk4yk56ubfsdpmojna0.jpg to C:/Users/drizl/AppData/Local/Temp/2/graphlab-drizl/4408/db137dd6-f666-43b0-b88f-8506c8d1524f.jpg</pre>"
      ],
      "text/plain": [
       "Downloading https://res.cloudinary.com/artstudiospace/image/upload/c_fill,g_center,h_256,w_256/v1453202689/admin/art/nxk4yk56ubfsdpmojna0.jpg to C:/Users/drizl/AppData/Local/Temp/2/graphlab-drizl/4408/db137dd6-f666-43b0-b88f-8506c8d1524f.jpg"
      ]
     },
     "metadata": {},
     "output_type": "display_data"
    },
    {
     "data": {
      "text/html": [
       "<pre>Downloading https://res.cloudinary.com/artstudiospace/image/upload/c_fill,g_center,h_256,w_256/v1453202705/admin/art/wlbmdj1de0kq1k3hz41q.jpg to C:/Users/drizl/AppData/Local/Temp/2/graphlab-drizl/4408/4ebc5f0b-9f8b-463c-abd3-36a13cc33250.jpg</pre>"
      ],
      "text/plain": [
       "Downloading https://res.cloudinary.com/artstudiospace/image/upload/c_fill,g_center,h_256,w_256/v1453202705/admin/art/wlbmdj1de0kq1k3hz41q.jpg to C:/Users/drizl/AppData/Local/Temp/2/graphlab-drizl/4408/4ebc5f0b-9f8b-463c-abd3-36a13cc33250.jpg"
      ]
     },
     "metadata": {},
     "output_type": "display_data"
    },
    {
     "data": {
      "text/html": [
       "<pre>Downloading https://res.cloudinary.com/drizlalpha/image/upload/c_fill,g_center,h_256,w_256/v1453352628/skmartist/art/mv5nt3uezdqpt6nd1ola.jpg to C:/Users/drizl/AppData/Local/Temp/2/graphlab-drizl/4408/dcc09327-8f6a-4d11-94d5-bb5fc0e57c4b.jpg</pre>"
      ],
      "text/plain": [
       "Downloading https://res.cloudinary.com/drizlalpha/image/upload/c_fill,g_center,h_256,w_256/v1453352628/skmartist/art/mv5nt3uezdqpt6nd1ola.jpg to C:/Users/drizl/AppData/Local/Temp/2/graphlab-drizl/4408/dcc09327-8f6a-4d11-94d5-bb5fc0e57c4b.jpg"
      ]
     },
     "metadata": {},
     "output_type": "display_data"
    },
    {
     "data": {
      "text/html": [
       "<pre>Downloading https://res.cloudinary.com/drizlalpha/image/upload/c_fill,g_center,h_256,w_256/v1453500316/bettyjo/art/i7jpjw17qbbxwehh41vs.jpg to C:/Users/drizl/AppData/Local/Temp/2/graphlab-drizl/4408/ec3229d6-08d9-492b-9c36-1e78503c345a.jpg</pre>"
      ],
      "text/plain": [
       "Downloading https://res.cloudinary.com/drizlalpha/image/upload/c_fill,g_center,h_256,w_256/v1453500316/bettyjo/art/i7jpjw17qbbxwehh41vs.jpg to C:/Users/drizl/AppData/Local/Temp/2/graphlab-drizl/4408/ec3229d6-08d9-492b-9c36-1e78503c345a.jpg"
      ]
     },
     "metadata": {},
     "output_type": "display_data"
    },
    {
     "data": {
      "text/html": [
       "<pre>Downloading https://res.cloudinary.com/drizlalpha/image/upload/c_fill,g_center,h_256,w_256/v1453500993/bettyjo/art/aetgvbu4kprkzbyiqdli.jpg to C:/Users/drizl/AppData/Local/Temp/2/graphlab-drizl/4408/88a9ddb1-5791-4440-86d5-761cae933b15.jpg</pre>"
      ],
      "text/plain": [
       "Downloading https://res.cloudinary.com/drizlalpha/image/upload/c_fill,g_center,h_256,w_256/v1453500993/bettyjo/art/aetgvbu4kprkzbyiqdli.jpg to C:/Users/drizl/AppData/Local/Temp/2/graphlab-drizl/4408/88a9ddb1-5791-4440-86d5-761cae933b15.jpg"
      ]
     },
     "metadata": {},
     "output_type": "display_data"
    },
    {
     "data": {
      "text/html": [
       "<pre>Downloading https://res.cloudinary.com/drizlalpha/image/upload/c_fill,g_center,h_256,w_256/v1453501489/bettyjo/art/frmfxuurx8w8nme4jbxx.jpg to C:/Users/drizl/AppData/Local/Temp/2/graphlab-drizl/4408/af28b7ca-d71d-412c-b2ff-09bb3394d514.jpg</pre>"
      ],
      "text/plain": [
       "Downloading https://res.cloudinary.com/drizlalpha/image/upload/c_fill,g_center,h_256,w_256/v1453501489/bettyjo/art/frmfxuurx8w8nme4jbxx.jpg to C:/Users/drizl/AppData/Local/Temp/2/graphlab-drizl/4408/af28b7ca-d71d-412c-b2ff-09bb3394d514.jpg"
      ]
     },
     "metadata": {},
     "output_type": "display_data"
    },
    {
     "data": {
      "text/html": [
       "<pre>Downloading https://res.cloudinary.com/drizlalpha/image/upload/c_fill,g_center,h_256,w_256/v1453501485/bettyjo/art/faox5iugdxn6ow7mtw7p.jpg to C:/Users/drizl/AppData/Local/Temp/2/graphlab-drizl/4408/c14d9550-f51b-4ec7-b4e9-bcec5ac4c4ec.jpg</pre>"
      ],
      "text/plain": [
       "Downloading https://res.cloudinary.com/drizlalpha/image/upload/c_fill,g_center,h_256,w_256/v1453501485/bettyjo/art/faox5iugdxn6ow7mtw7p.jpg to C:/Users/drizl/AppData/Local/Temp/2/graphlab-drizl/4408/c14d9550-f51b-4ec7-b4e9-bcec5ac4c4ec.jpg"
      ]
     },
     "metadata": {},
     "output_type": "display_data"
    },
    {
     "data": {
      "text/html": [
       "<pre>Downloading https://res.cloudinary.com/drizlalpha/image/upload/c_fill,g_center,h_256,w_256/v1453503112/bettyjo/art/qtv6jsw9idicldyvjcen.jpg to C:/Users/drizl/AppData/Local/Temp/2/graphlab-drizl/4408/6810bcc6-881d-4eec-a78d-96af0045db99.jpg</pre>"
      ],
      "text/plain": [
       "Downloading https://res.cloudinary.com/drizlalpha/image/upload/c_fill,g_center,h_256,w_256/v1453503112/bettyjo/art/qtv6jsw9idicldyvjcen.jpg to C:/Users/drizl/AppData/Local/Temp/2/graphlab-drizl/4408/6810bcc6-881d-4eec-a78d-96af0045db99.jpg"
      ]
     },
     "metadata": {},
     "output_type": "display_data"
    },
    {
     "data": {
      "text/html": [
       "<pre>Downloading https://res.cloudinary.com/drizlalpha/image/upload/c_fill,g_center,h_256,w_256/v1453503111/bettyjo/art/qnzyrxlu82cebqcmqyzj.jpg to C:/Users/drizl/AppData/Local/Temp/2/graphlab-drizl/4408/8a93f9a5-a261-406c-b119-0b226a13c92c.jpg</pre>"
      ],
      "text/plain": [
       "Downloading https://res.cloudinary.com/drizlalpha/image/upload/c_fill,g_center,h_256,w_256/v1453503111/bettyjo/art/qnzyrxlu82cebqcmqyzj.jpg to C:/Users/drizl/AppData/Local/Temp/2/graphlab-drizl/4408/8a93f9a5-a261-406c-b119-0b226a13c92c.jpg"
      ]
     },
     "metadata": {},
     "output_type": "display_data"
    },
    {
     "data": {
      "text/html": [
       "<pre>Downloading https://res.cloudinary.com/drizlalpha/image/upload/c_fill,g_center,h_256,w_256/v1453503114/bettyjo/art/o4ogzjg6lrvvbaihq7nb.jpg to C:/Users/drizl/AppData/Local/Temp/2/graphlab-drizl/4408/c7dd1d61-6aec-4ae8-a8e9-7c0e26ed78bf.jpg</pre>"
      ],
      "text/plain": [
       "Downloading https://res.cloudinary.com/drizlalpha/image/upload/c_fill,g_center,h_256,w_256/v1453503114/bettyjo/art/o4ogzjg6lrvvbaihq7nb.jpg to C:/Users/drizl/AppData/Local/Temp/2/graphlab-drizl/4408/c7dd1d61-6aec-4ae8-a8e9-7c0e26ed78bf.jpg"
      ]
     },
     "metadata": {},
     "output_type": "display_data"
    },
    {
     "data": {
      "text/html": [
       "<pre>Downloading https://res.cloudinary.com/drizlalpha/image/upload/c_fill,g_center,h_256,w_256/v1453503120/bettyjo/art/hnwjb7eznvkjgwpnseuz.jpg to C:/Users/drizl/AppData/Local/Temp/2/graphlab-drizl/4408/51b1e33f-84a1-4900-a784-1fdc209de071.jpg</pre>"
      ],
      "text/plain": [
       "Downloading https://res.cloudinary.com/drizlalpha/image/upload/c_fill,g_center,h_256,w_256/v1453503120/bettyjo/art/hnwjb7eznvkjgwpnseuz.jpg to C:/Users/drizl/AppData/Local/Temp/2/graphlab-drizl/4408/51b1e33f-84a1-4900-a784-1fdc209de071.jpg"
      ]
     },
     "metadata": {},
     "output_type": "display_data"
    },
    {
     "data": {
      "text/html": [
       "<pre>Downloading https://res.cloudinary.com/drizlalpha/image/upload/c_fill,g_center,h_256,w_256/v1453503118/bettyjo/art/fca8uzdbhthhjof9vpoe.jpg to C:/Users/drizl/AppData/Local/Temp/2/graphlab-drizl/4408/36fe80ea-6f5f-4264-b22b-599d5bd1b3d2.jpg</pre>"
      ],
      "text/plain": [
       "Downloading https://res.cloudinary.com/drizlalpha/image/upload/c_fill,g_center,h_256,w_256/v1453503118/bettyjo/art/fca8uzdbhthhjof9vpoe.jpg to C:/Users/drizl/AppData/Local/Temp/2/graphlab-drizl/4408/36fe80ea-6f5f-4264-b22b-599d5bd1b3d2.jpg"
      ]
     },
     "metadata": {},
     "output_type": "display_data"
    },
    {
     "data": {
      "text/html": [
       "<pre>Downloading https://res.cloudinary.com/drizlalpha/image/upload/c_fill,g_center,h_256,w_256/v1453504566/bettyjo/art/rb2vfjsvy0yzuidhk1dm.jpg to C:/Users/drizl/AppData/Local/Temp/2/graphlab-drizl/4408/816b0e12-74cb-4e7c-9ec9-9b23afcb91b6.jpg</pre>"
      ],
      "text/plain": [
       "Downloading https://res.cloudinary.com/drizlalpha/image/upload/c_fill,g_center,h_256,w_256/v1453504566/bettyjo/art/rb2vfjsvy0yzuidhk1dm.jpg to C:/Users/drizl/AppData/Local/Temp/2/graphlab-drizl/4408/816b0e12-74cb-4e7c-9ec9-9b23afcb91b6.jpg"
      ]
     },
     "metadata": {},
     "output_type": "display_data"
    },
    {
     "data": {
      "text/html": [
       "<pre>Downloading https://res.cloudinary.com/drizlalpha/image/upload/c_fill,g_center,h_256,w_256/v1453504606/bettyjo/art/febxjfremiwbbz4monu9.jpg to C:/Users/drizl/AppData/Local/Temp/2/graphlab-drizl/4408/c4bb4dcd-01ff-4f3b-9691-4f8c548f3885.jpg</pre>"
      ],
      "text/plain": [
       "Downloading https://res.cloudinary.com/drizlalpha/image/upload/c_fill,g_center,h_256,w_256/v1453504606/bettyjo/art/febxjfremiwbbz4monu9.jpg to C:/Users/drizl/AppData/Local/Temp/2/graphlab-drizl/4408/c4bb4dcd-01ff-4f3b-9691-4f8c548f3885.jpg"
      ]
     },
     "metadata": {},
     "output_type": "display_data"
    },
    {
     "data": {
      "text/html": [
       "<pre>Downloading https://res.cloudinary.com/drizlalpha/image/upload/c_fill,g_center,h_256,w_256/v1453504605/bettyjo/art/isys7zcje6tf8skrywnb.jpg to C:/Users/drizl/AppData/Local/Temp/2/graphlab-drizl/4408/3f242def-f801-4d7a-bbbf-eb8c505aea4e.jpg</pre>"
      ],
      "text/plain": [
       "Downloading https://res.cloudinary.com/drizlalpha/image/upload/c_fill,g_center,h_256,w_256/v1453504605/bettyjo/art/isys7zcje6tf8skrywnb.jpg to C:/Users/drizl/AppData/Local/Temp/2/graphlab-drizl/4408/3f242def-f801-4d7a-bbbf-eb8c505aea4e.jpg"
      ]
     },
     "metadata": {},
     "output_type": "display_data"
    },
    {
     "data": {
      "text/html": [
       "<pre>Downloading https://res.cloudinary.com/drizlalpha/image/upload/c_fill,g_center,h_256,w_256/v1453505715/bettyjo/art/mogr8apdh53ib6mtkszj.jpg to C:/Users/drizl/AppData/Local/Temp/2/graphlab-drizl/4408/88879c3e-c71b-4283-9f91-1a313bda394d.jpg</pre>"
      ],
      "text/plain": [
       "Downloading https://res.cloudinary.com/drizlalpha/image/upload/c_fill,g_center,h_256,w_256/v1453505715/bettyjo/art/mogr8apdh53ib6mtkszj.jpg to C:/Users/drizl/AppData/Local/Temp/2/graphlab-drizl/4408/88879c3e-c71b-4283-9f91-1a313bda394d.jpg"
      ]
     },
     "metadata": {},
     "output_type": "display_data"
    },
    {
     "data": {
      "text/html": [
       "<pre>Downloading https://res.cloudinary.com/drizlalpha/image/upload/c_fill,g_center,h_256,w_256/v1453505715/bettyjo/art/m0vidq4xkijzldei2dpy.jpg to C:/Users/drizl/AppData/Local/Temp/2/graphlab-drizl/4408/3881ad73-d37e-4c33-8b19-d35859df09de.jpg</pre>"
      ],
      "text/plain": [
       "Downloading https://res.cloudinary.com/drizlalpha/image/upload/c_fill,g_center,h_256,w_256/v1453505715/bettyjo/art/m0vidq4xkijzldei2dpy.jpg to C:/Users/drizl/AppData/Local/Temp/2/graphlab-drizl/4408/3881ad73-d37e-4c33-8b19-d35859df09de.jpg"
      ]
     },
     "metadata": {},
     "output_type": "display_data"
    },
    {
     "data": {
      "text/html": [
       "<pre>Downloading https://res.cloudinary.com/drizlalpha/image/upload/c_fill,g_center,h_256,w_256/v1453505715/bettyjo/art/komibyhghemhlp7vonsi.jpg to C:/Users/drizl/AppData/Local/Temp/2/graphlab-drizl/4408/c1d335b4-77c9-43f6-930c-65535ba2f04e.jpg</pre>"
      ],
      "text/plain": [
       "Downloading https://res.cloudinary.com/drizlalpha/image/upload/c_fill,g_center,h_256,w_256/v1453505715/bettyjo/art/komibyhghemhlp7vonsi.jpg to C:/Users/drizl/AppData/Local/Temp/2/graphlab-drizl/4408/c1d335b4-77c9-43f6-930c-65535ba2f04e.jpg"
      ]
     },
     "metadata": {},
     "output_type": "display_data"
    },
    {
     "data": {
      "text/html": [
       "<pre>Downloading https://res.cloudinary.com/drizlalpha/image/upload/c_fill,g_center,h_256,w_256/v1453516780/jstorq/art/pytkte9okhaekyzkunpa.jpg to C:/Users/drizl/AppData/Local/Temp/2/graphlab-drizl/4408/81fba032-2736-4c25-805c-1d55abf0f3bd.jpg</pre>"
      ],
      "text/plain": [
       "Downloading https://res.cloudinary.com/drizlalpha/image/upload/c_fill,g_center,h_256,w_256/v1453516780/jstorq/art/pytkte9okhaekyzkunpa.jpg to C:/Users/drizl/AppData/Local/Temp/2/graphlab-drizl/4408/81fba032-2736-4c25-805c-1d55abf0f3bd.jpg"
      ]
     },
     "metadata": {},
     "output_type": "display_data"
    },
    {
     "data": {
      "text/html": [
       "<pre>Downloading https://res.cloudinary.com/drizlalpha/image/upload/c_fill,g_center,h_256,w_256/v1453516780/jstorq/art/deytfmfraxztq5lsdplf.jpg to C:/Users/drizl/AppData/Local/Temp/2/graphlab-drizl/4408/6bf76236-6837-458d-ba1a-9aef138c7458.jpg</pre>"
      ],
      "text/plain": [
       "Downloading https://res.cloudinary.com/drizlalpha/image/upload/c_fill,g_center,h_256,w_256/v1453516780/jstorq/art/deytfmfraxztq5lsdplf.jpg to C:/Users/drizl/AppData/Local/Temp/2/graphlab-drizl/4408/6bf76236-6837-458d-ba1a-9aef138c7458.jpg"
      ]
     },
     "metadata": {},
     "output_type": "display_data"
    },
    {
     "data": {
      "text/html": [
       "<pre>Downloading https://res.cloudinary.com/drizlalpha/image/upload/c_fill,g_center,h_256,w_256/v1453516783/jstorq/art/cgwkiw2ywyxkrmawqdee.jpg to C:/Users/drizl/AppData/Local/Temp/2/graphlab-drizl/4408/727117ad-6fbe-4804-860b-52baaf70900d.jpg</pre>"
      ],
      "text/plain": [
       "Downloading https://res.cloudinary.com/drizlalpha/image/upload/c_fill,g_center,h_256,w_256/v1453516783/jstorq/art/cgwkiw2ywyxkrmawqdee.jpg to C:/Users/drizl/AppData/Local/Temp/2/graphlab-drizl/4408/727117ad-6fbe-4804-860b-52baaf70900d.jpg"
      ]
     },
     "metadata": {},
     "output_type": "display_data"
    },
    {
     "data": {
      "text/html": [
       "<pre>Downloading https://res.cloudinary.com/drizlalpha/image/upload/c_fill,g_center,h_256,w_256/v1453516781/jstorq/art/u8ft80wf6qqefqbn1sis.jpg to C:/Users/drizl/AppData/Local/Temp/2/graphlab-drizl/4408/b4dfb8b9-ad85-4be6-902e-5b4dae433f6e.jpg</pre>"
      ],
      "text/plain": [
       "Downloading https://res.cloudinary.com/drizlalpha/image/upload/c_fill,g_center,h_256,w_256/v1453516781/jstorq/art/u8ft80wf6qqefqbn1sis.jpg to C:/Users/drizl/AppData/Local/Temp/2/graphlab-drizl/4408/b4dfb8b9-ad85-4be6-902e-5b4dae433f6e.jpg"
      ]
     },
     "metadata": {},
     "output_type": "display_data"
    },
    {
     "data": {
      "text/html": [
       "<pre>Downloading https://res.cloudinary.com/drizlalpha/image/upload/c_fill,g_center,h_256,w_256/v1453516779/jstorq/art/lsnwh4f2jkd6stol87mo.jpg to C:/Users/drizl/AppData/Local/Temp/2/graphlab-drizl/4408/2107baaf-4343-45a9-957c-ff60f4b49842.jpg</pre>"
      ],
      "text/plain": [
       "Downloading https://res.cloudinary.com/drizlalpha/image/upload/c_fill,g_center,h_256,w_256/v1453516779/jstorq/art/lsnwh4f2jkd6stol87mo.jpg to C:/Users/drizl/AppData/Local/Temp/2/graphlab-drizl/4408/2107baaf-4343-45a9-957c-ff60f4b49842.jpg"
      ]
     },
     "metadata": {},
     "output_type": "display_data"
    },
    {
     "data": {
      "text/html": [
       "<pre>Downloading https://res.cloudinary.com/drizlalpha/image/upload/c_fill,g_center,h_256,w_256/v1453516782/jstorq/art/ddp67kyjwc3bwltsinmq.jpg to C:/Users/drizl/AppData/Local/Temp/2/graphlab-drizl/4408/5d7174a8-37a2-4f4a-a038-d2a081f07904.jpg</pre>"
      ],
      "text/plain": [
       "Downloading https://res.cloudinary.com/drizlalpha/image/upload/c_fill,g_center,h_256,w_256/v1453516782/jstorq/art/ddp67kyjwc3bwltsinmq.jpg to C:/Users/drizl/AppData/Local/Temp/2/graphlab-drizl/4408/5d7174a8-37a2-4f4a-a038-d2a081f07904.jpg"
      ]
     },
     "metadata": {},
     "output_type": "display_data"
    },
    {
     "data": {
      "text/html": [
       "<pre>Downloading https://res.cloudinary.com/drizlalpha/image/upload/c_fill,g_center,h_256,w_256/v1453516786/jstorq/art/jmkupzsfn3btxfyypqn0.jpg to C:/Users/drizl/AppData/Local/Temp/2/graphlab-drizl/4408/d5213b2e-6762-42a0-9a57-4efaca988021.jpg</pre>"
      ],
      "text/plain": [
       "Downloading https://res.cloudinary.com/drizlalpha/image/upload/c_fill,g_center,h_256,w_256/v1453516786/jstorq/art/jmkupzsfn3btxfyypqn0.jpg to C:/Users/drizl/AppData/Local/Temp/2/graphlab-drizl/4408/d5213b2e-6762-42a0-9a57-4efaca988021.jpg"
      ]
     },
     "metadata": {},
     "output_type": "display_data"
    },
    {
     "data": {
      "text/html": [
       "<pre>Downloading https://res.cloudinary.com/drizlalpha/image/upload/c_fill,g_center,h_256,w_256/v1453516783/jstorq/art/axp4xhoohpgh9gqibwu1.jpg to C:/Users/drizl/AppData/Local/Temp/2/graphlab-drizl/4408/ed03c6e9-5ab8-4a57-8b44-2d8726153b29.jpg</pre>"
      ],
      "text/plain": [
       "Downloading https://res.cloudinary.com/drizlalpha/image/upload/c_fill,g_center,h_256,w_256/v1453516783/jstorq/art/axp4xhoohpgh9gqibwu1.jpg to C:/Users/drizl/AppData/Local/Temp/2/graphlab-drizl/4408/ed03c6e9-5ab8-4a57-8b44-2d8726153b29.jpg"
      ]
     },
     "metadata": {},
     "output_type": "display_data"
    },
    {
     "data": {
      "text/html": [
       "<pre>Downloading https://res.cloudinary.com/drizlalpha/image/upload/c_fill,g_center,h_256,w_256/v1453516784/jstorq/art/xaxrix61n5q24i4ct3ts.jpg to C:/Users/drizl/AppData/Local/Temp/2/graphlab-drizl/4408/ad1b3c85-7e4a-4c48-b43a-90fd1844dab4.jpg</pre>"
      ],
      "text/plain": [
       "Downloading https://res.cloudinary.com/drizlalpha/image/upload/c_fill,g_center,h_256,w_256/v1453516784/jstorq/art/xaxrix61n5q24i4ct3ts.jpg to C:/Users/drizl/AppData/Local/Temp/2/graphlab-drizl/4408/ad1b3c85-7e4a-4c48-b43a-90fd1844dab4.jpg"
      ]
     },
     "metadata": {},
     "output_type": "display_data"
    },
    {
     "data": {
      "text/html": [
       "<pre>Downloading https://res.cloudinary.com/drizlalpha/image/upload/c_fill,g_center,h_256,w_256/v1453516787/jstorq/art/awstbrwuwv0rdwyuw9tr.jpg to C:/Users/drizl/AppData/Local/Temp/2/graphlab-drizl/4408/e4055a4a-80aa-41fd-8ddd-70c1069dd19f.jpg</pre>"
      ],
      "text/plain": [
       "Downloading https://res.cloudinary.com/drizlalpha/image/upload/c_fill,g_center,h_256,w_256/v1453516787/jstorq/art/awstbrwuwv0rdwyuw9tr.jpg to C:/Users/drizl/AppData/Local/Temp/2/graphlab-drizl/4408/e4055a4a-80aa-41fd-8ddd-70c1069dd19f.jpg"
      ]
     },
     "metadata": {},
     "output_type": "display_data"
    },
    {
     "data": {
      "text/html": [
       "<pre>Downloading https://res.cloudinary.com/drizlalpha/image/upload/c_fill,g_center,h_256,w_256/v1453516786/jstorq/art/f36ihdosbyhinl03wkem.jpg to C:/Users/drizl/AppData/Local/Temp/2/graphlab-drizl/4408/3481dec7-7f96-4ce8-8361-f509648c39dd.jpg</pre>"
      ],
      "text/plain": [
       "Downloading https://res.cloudinary.com/drizlalpha/image/upload/c_fill,g_center,h_256,w_256/v1453516786/jstorq/art/f36ihdosbyhinl03wkem.jpg to C:/Users/drizl/AppData/Local/Temp/2/graphlab-drizl/4408/3481dec7-7f96-4ce8-8361-f509648c39dd.jpg"
      ]
     },
     "metadata": {},
     "output_type": "display_data"
    },
    {
     "data": {
      "text/html": [
       "<pre>Downloading https://res.cloudinary.com/drizlalpha/image/upload/c_fill,g_center,h_256,w_256/v1453516790/jstorq/art/clfzcykutbxpdcccplxs.jpg to C:/Users/drizl/AppData/Local/Temp/2/graphlab-drizl/4408/f8cfad8c-ecae-4de7-ae18-f52f1e651e50.jpg</pre>"
      ],
      "text/plain": [
       "Downloading https://res.cloudinary.com/drizlalpha/image/upload/c_fill,g_center,h_256,w_256/v1453516790/jstorq/art/clfzcykutbxpdcccplxs.jpg to C:/Users/drizl/AppData/Local/Temp/2/graphlab-drizl/4408/f8cfad8c-ecae-4de7-ae18-f52f1e651e50.jpg"
      ]
     },
     "metadata": {},
     "output_type": "display_data"
    },
    {
     "data": {
      "text/html": [
       "<pre>Downloading https://res.cloudinary.com/drizlalpha/image/upload/c_fill,g_center,h_256,w_256/v1453516791/jstorq/art/nyyiftnaqyti4swvculf.jpg to C:/Users/drizl/AppData/Local/Temp/2/graphlab-drizl/4408/7d067844-a8d4-4103-b082-52fd2a665148.jpg</pre>"
      ],
      "text/plain": [
       "Downloading https://res.cloudinary.com/drizlalpha/image/upload/c_fill,g_center,h_256,w_256/v1453516791/jstorq/art/nyyiftnaqyti4swvculf.jpg to C:/Users/drizl/AppData/Local/Temp/2/graphlab-drizl/4408/7d067844-a8d4-4103-b082-52fd2a665148.jpg"
      ]
     },
     "metadata": {},
     "output_type": "display_data"
    },
    {
     "data": {
      "text/html": [
       "<pre>Downloading https://res.cloudinary.com/drizlalpha/image/upload/c_fill,g_center,h_256,w_256/v1453516790/jstorq/art/hdk2qpiofuer1znwsl2u.jpg to C:/Users/drizl/AppData/Local/Temp/2/graphlab-drizl/4408/20ddb96a-0ca7-4264-b35c-dd4a81f9c684.jpg</pre>"
      ],
      "text/plain": [
       "Downloading https://res.cloudinary.com/drizlalpha/image/upload/c_fill,g_center,h_256,w_256/v1453516790/jstorq/art/hdk2qpiofuer1znwsl2u.jpg to C:/Users/drizl/AppData/Local/Temp/2/graphlab-drizl/4408/20ddb96a-0ca7-4264-b35c-dd4a81f9c684.jpg"
      ]
     },
     "metadata": {},
     "output_type": "display_data"
    },
    {
     "data": {
      "text/html": [
       "<pre>Downloading https://res.cloudinary.com/drizlalpha/image/upload/c_fill,g_center,h_256,w_256/v1453516792/jstorq/art/yeb8qn3f1ioikrlx34xn.jpg to C:/Users/drizl/AppData/Local/Temp/2/graphlab-drizl/4408/05a7f47f-0f8b-4877-af91-fc50b24c26f2.jpg</pre>"
      ],
      "text/plain": [
       "Downloading https://res.cloudinary.com/drizlalpha/image/upload/c_fill,g_center,h_256,w_256/v1453516792/jstorq/art/yeb8qn3f1ioikrlx34xn.jpg to C:/Users/drizl/AppData/Local/Temp/2/graphlab-drizl/4408/05a7f47f-0f8b-4877-af91-fc50b24c26f2.jpg"
      ]
     },
     "metadata": {},
     "output_type": "display_data"
    },
    {
     "data": {
      "text/html": [
       "<pre>Downloading https://res.cloudinary.com/drizlalpha/image/upload/c_fill,g_center,h_256,w_256/v1453516792/jstorq/art/wshhe3wz2ng5nrpimj5t.jpg to C:/Users/drizl/AppData/Local/Temp/2/graphlab-drizl/4408/17c9dbe8-f616-4517-85fb-851af43f95fd.jpg</pre>"
      ],
      "text/plain": [
       "Downloading https://res.cloudinary.com/drizlalpha/image/upload/c_fill,g_center,h_256,w_256/v1453516792/jstorq/art/wshhe3wz2ng5nrpimj5t.jpg to C:/Users/drizl/AppData/Local/Temp/2/graphlab-drizl/4408/17c9dbe8-f616-4517-85fb-851af43f95fd.jpg"
      ]
     },
     "metadata": {},
     "output_type": "display_data"
    },
    {
     "data": {
      "text/html": [
       "<pre>Downloading https://res.cloudinary.com/drizlalpha/image/upload/c_fill,g_center,h_256,w_256/v1453516794/jstorq/art/pdjqx3ek1rp9vpq7xrsm.jpg to C:/Users/drizl/AppData/Local/Temp/2/graphlab-drizl/4408/54266427-8143-4c1b-aac5-23ac69e457db.jpg</pre>"
      ],
      "text/plain": [
       "Downloading https://res.cloudinary.com/drizlalpha/image/upload/c_fill,g_center,h_256,w_256/v1453516794/jstorq/art/pdjqx3ek1rp9vpq7xrsm.jpg to C:/Users/drizl/AppData/Local/Temp/2/graphlab-drizl/4408/54266427-8143-4c1b-aac5-23ac69e457db.jpg"
      ]
     },
     "metadata": {},
     "output_type": "display_data"
    },
    {
     "data": {
      "text/html": [
       "<pre>Downloading https://res.cloudinary.com/drizlalpha/image/upload/c_fill,g_center,h_256,w_256/v1453516795/jstorq/art/aujuikske6qxlxwusf6q.jpg to C:/Users/drizl/AppData/Local/Temp/2/graphlab-drizl/4408/ee2d1ea7-fa82-4d37-9ab9-700993f8f527.jpg</pre>"
      ],
      "text/plain": [
       "Downloading https://res.cloudinary.com/drizlalpha/image/upload/c_fill,g_center,h_256,w_256/v1453516795/jstorq/art/aujuikske6qxlxwusf6q.jpg to C:/Users/drizl/AppData/Local/Temp/2/graphlab-drizl/4408/ee2d1ea7-fa82-4d37-9ab9-700993f8f527.jpg"
      ]
     },
     "metadata": {},
     "output_type": "display_data"
    },
    {
     "data": {
      "text/html": [
       "<pre>Downloading https://res.cloudinary.com/drizlalpha/image/upload/c_fill,g_center,h_256,w_256/v1453516799/jstorq/art/olukpbwsekg6wheppfxl.jpg to C:/Users/drizl/AppData/Local/Temp/2/graphlab-drizl/4408/b30423b3-0aef-4fd9-90a2-83e4565ea70e.jpg</pre>"
      ],
      "text/plain": [
       "Downloading https://res.cloudinary.com/drizlalpha/image/upload/c_fill,g_center,h_256,w_256/v1453516799/jstorq/art/olukpbwsekg6wheppfxl.jpg to C:/Users/drizl/AppData/Local/Temp/2/graphlab-drizl/4408/b30423b3-0aef-4fd9-90a2-83e4565ea70e.jpg"
      ]
     },
     "metadata": {},
     "output_type": "display_data"
    },
    {
     "data": {
      "text/html": [
       "<pre>Downloading https://res.cloudinary.com/drizlalpha/image/upload/c_fill,g_center,h_256,w_256/v1453516795/jstorq/art/xg8vef7nfhwv5eevzl97.jpg to C:/Users/drizl/AppData/Local/Temp/2/graphlab-drizl/4408/3ca92cc9-be0d-4bb4-857b-33a7eb5b1966.jpg</pre>"
      ],
      "text/plain": [
       "Downloading https://res.cloudinary.com/drizlalpha/image/upload/c_fill,g_center,h_256,w_256/v1453516795/jstorq/art/xg8vef7nfhwv5eevzl97.jpg to C:/Users/drizl/AppData/Local/Temp/2/graphlab-drizl/4408/3ca92cc9-be0d-4bb4-857b-33a7eb5b1966.jpg"
      ]
     },
     "metadata": {},
     "output_type": "display_data"
    },
    {
     "data": {
      "text/html": [
       "<pre>Downloading https://res.cloudinary.com/drizlalpha/image/upload/c_fill,g_center,h_256,w_256/v1453516795/jstorq/art/fbyq8gi0xcoabluutbuc.jpg to C:/Users/drizl/AppData/Local/Temp/2/graphlab-drizl/4408/8263c120-c68b-4379-ab32-c0492ef26fe5.jpg</pre>"
      ],
      "text/plain": [
       "Downloading https://res.cloudinary.com/drizlalpha/image/upload/c_fill,g_center,h_256,w_256/v1453516795/jstorq/art/fbyq8gi0xcoabluutbuc.jpg to C:/Users/drizl/AppData/Local/Temp/2/graphlab-drizl/4408/8263c120-c68b-4379-ab32-c0492ef26fe5.jpg"
      ]
     },
     "metadata": {},
     "output_type": "display_data"
    },
    {
     "data": {
      "text/html": [
       "<pre>Downloading https://res.cloudinary.com/drizlalpha/image/upload/c_fill,g_center,h_256,w_256/v1453516796/jstorq/art/lgszazwfahozlcgjh45o.jpg to C:/Users/drizl/AppData/Local/Temp/2/graphlab-drizl/4408/a8299156-05b0-4ca8-bee5-e2bd2fa2f67e.jpg</pre>"
      ],
      "text/plain": [
       "Downloading https://res.cloudinary.com/drizlalpha/image/upload/c_fill,g_center,h_256,w_256/v1453516796/jstorq/art/lgszazwfahozlcgjh45o.jpg to C:/Users/drizl/AppData/Local/Temp/2/graphlab-drizl/4408/a8299156-05b0-4ca8-bee5-e2bd2fa2f67e.jpg"
      ]
     },
     "metadata": {},
     "output_type": "display_data"
    },
    {
     "data": {
      "text/html": [
       "<pre>Downloading https://res.cloudinary.com/drizlalpha/image/upload/c_fill,g_center,h_256,w_256/v1453516789/jstorq/art/ntbxfxun2wfy0fbiyvqk.jpg to C:/Users/drizl/AppData/Local/Temp/2/graphlab-drizl/4408/4b4ac95b-4abb-4543-9c4f-853ee5e7c26c.jpg</pre>"
      ],
      "text/plain": [
       "Downloading https://res.cloudinary.com/drizlalpha/image/upload/c_fill,g_center,h_256,w_256/v1453516789/jstorq/art/ntbxfxun2wfy0fbiyvqk.jpg to C:/Users/drizl/AppData/Local/Temp/2/graphlab-drizl/4408/4b4ac95b-4abb-4543-9c4f-853ee5e7c26c.jpg"
      ]
     },
     "metadata": {},
     "output_type": "display_data"
    },
    {
     "data": {
      "text/html": [
       "<pre>Downloading https://res.cloudinary.com/drizlalpha/image/upload/c_fill,g_center,h_256,w_256/v1453516789/jstorq/art/dspejokfnvqdg9pewp1n.jpg to C:/Users/drizl/AppData/Local/Temp/2/graphlab-drizl/4408/22b8ce31-e25a-4d9e-98e0-3171fa064adb.jpg</pre>"
      ],
      "text/plain": [
       "Downloading https://res.cloudinary.com/drizlalpha/image/upload/c_fill,g_center,h_256,w_256/v1453516789/jstorq/art/dspejokfnvqdg9pewp1n.jpg to C:/Users/drizl/AppData/Local/Temp/2/graphlab-drizl/4408/22b8ce31-e25a-4d9e-98e0-3171fa064adb.jpg"
      ]
     },
     "metadata": {},
     "output_type": "display_data"
    },
    {
     "data": {
      "text/html": [
       "<pre>Downloading https://res.cloudinary.com/drizlalpha/image/upload/c_fill,g_center,h_256,w_256/v1453516797/jstorq/art/urqlbjgsuffhpfjxvzns.jpg to C:/Users/drizl/AppData/Local/Temp/2/graphlab-drizl/4408/72628fca-67e1-469e-b5b5-570c8ff4a482.jpg</pre>"
      ],
      "text/plain": [
       "Downloading https://res.cloudinary.com/drizlalpha/image/upload/c_fill,g_center,h_256,w_256/v1453516797/jstorq/art/urqlbjgsuffhpfjxvzns.jpg to C:/Users/drizl/AppData/Local/Temp/2/graphlab-drizl/4408/72628fca-67e1-469e-b5b5-570c8ff4a482.jpg"
      ]
     },
     "metadata": {},
     "output_type": "display_data"
    },
    {
     "data": {
      "text/html": [
       "<pre>Downloading https://res.cloudinary.com/drizlalpha/image/upload/c_fill,g_center,h_256,w_256/v1453520064/jstorq/art/bcvatqnridwqrkauucgd.jpg to C:/Users/drizl/AppData/Local/Temp/2/graphlab-drizl/4408/6b3e9e2c-6f99-4f09-a74a-8be605b78a2f.jpg</pre>"
      ],
      "text/plain": [
       "Downloading https://res.cloudinary.com/drizlalpha/image/upload/c_fill,g_center,h_256,w_256/v1453520064/jstorq/art/bcvatqnridwqrkauucgd.jpg to C:/Users/drizl/AppData/Local/Temp/2/graphlab-drizl/4408/6b3e9e2c-6f99-4f09-a74a-8be605b78a2f.jpg"
      ]
     },
     "metadata": {},
     "output_type": "display_data"
    },
    {
     "data": {
      "text/html": [
       "<pre>Downloading https://res.cloudinary.com/drizlalpha/image/upload/c_fill,g_center,h_256,w_256/v1453520257/jstorq/art/jmftaudsz4vbdmwhnqr7.jpg to C:/Users/drizl/AppData/Local/Temp/2/graphlab-drizl/4408/06d79d7d-5a85-41c1-bc91-1b547b029f7d.jpg</pre>"
      ],
      "text/plain": [
       "Downloading https://res.cloudinary.com/drizlalpha/image/upload/c_fill,g_center,h_256,w_256/v1453520257/jstorq/art/jmftaudsz4vbdmwhnqr7.jpg to C:/Users/drizl/AppData/Local/Temp/2/graphlab-drizl/4408/06d79d7d-5a85-41c1-bc91-1b547b029f7d.jpg"
      ]
     },
     "metadata": {},
     "output_type": "display_data"
    },
    {
     "data": {
      "text/html": [
       "<pre>Downloading https://res.cloudinary.com/drizlalpha/image/upload/c_fill,g_center,h_256,w_256/v1453520257/jstorq/art/abzophzscn6biq7fgfcs.jpg to C:/Users/drizl/AppData/Local/Temp/2/graphlab-drizl/4408/c5100e66-3579-4883-8c84-7274310917fb.jpg</pre>"
      ],
      "text/plain": [
       "Downloading https://res.cloudinary.com/drizlalpha/image/upload/c_fill,g_center,h_256,w_256/v1453520257/jstorq/art/abzophzscn6biq7fgfcs.jpg to C:/Users/drizl/AppData/Local/Temp/2/graphlab-drizl/4408/c5100e66-3579-4883-8c84-7274310917fb.jpg"
      ]
     },
     "metadata": {},
     "output_type": "display_data"
    },
    {
     "data": {
      "text/html": [
       "<pre>Downloading https://res.cloudinary.com/drizlalpha/image/upload/c_fill,g_center,h_256,w_256/v1453520257/jstorq/art/ypiyvn8qs2sujcgw6iib.jpg to C:/Users/drizl/AppData/Local/Temp/2/graphlab-drizl/4408/63da0015-de28-4c45-b228-46138d0f2e4d.jpg</pre>"
      ],
      "text/plain": [
       "Downloading https://res.cloudinary.com/drizlalpha/image/upload/c_fill,g_center,h_256,w_256/v1453520257/jstorq/art/ypiyvn8qs2sujcgw6iib.jpg to C:/Users/drizl/AppData/Local/Temp/2/graphlab-drizl/4408/63da0015-de28-4c45-b228-46138d0f2e4d.jpg"
      ]
     },
     "metadata": {},
     "output_type": "display_data"
    },
    {
     "data": {
      "text/html": [
       "<pre>Downloading https://res.cloudinary.com/drizlalpha/image/upload/c_fill,g_center,h_256,w_256/v1453520256/jstorq/art/mp5afimcrmhvkyijmnvv.jpg to C:/Users/drizl/AppData/Local/Temp/2/graphlab-drizl/4408/523b60c9-653e-4b14-8bb2-5ec91f446b62.jpg</pre>"
      ],
      "text/plain": [
       "Downloading https://res.cloudinary.com/drizlalpha/image/upload/c_fill,g_center,h_256,w_256/v1453520256/jstorq/art/mp5afimcrmhvkyijmnvv.jpg to C:/Users/drizl/AppData/Local/Temp/2/graphlab-drizl/4408/523b60c9-653e-4b14-8bb2-5ec91f446b62.jpg"
      ]
     },
     "metadata": {},
     "output_type": "display_data"
    },
    {
     "data": {
      "text/html": [
       "<pre>Downloading https://res.cloudinary.com/drizlalpha/image/upload/c_fill,g_center,h_256,w_256/v1453520257/jstorq/art/cfzniodve4tgo5xojerb.jpg to C:/Users/drizl/AppData/Local/Temp/2/graphlab-drizl/4408/5d47128f-38fd-4fef-9c6a-3a6977e2967a.jpg</pre>"
      ],
      "text/plain": [
       "Downloading https://res.cloudinary.com/drizlalpha/image/upload/c_fill,g_center,h_256,w_256/v1453520257/jstorq/art/cfzniodve4tgo5xojerb.jpg to C:/Users/drizl/AppData/Local/Temp/2/graphlab-drizl/4408/5d47128f-38fd-4fef-9c6a-3a6977e2967a.jpg"
      ]
     },
     "metadata": {},
     "output_type": "display_data"
    },
    {
     "data": {
      "text/html": [
       "<pre>Downloading https://res.cloudinary.com/drizlalpha/image/upload/c_fill,g_center,h_256,w_256/v1453567421/johnosgood/art/qkq5b5xhm10shs2j6h2a.jpg to C:/Users/drizl/AppData/Local/Temp/2/graphlab-drizl/4408/bce92ae3-b3d8-40e8-a9cc-5a9b440a29a0.jpg</pre>"
      ],
      "text/plain": [
       "Downloading https://res.cloudinary.com/drizlalpha/image/upload/c_fill,g_center,h_256,w_256/v1453567421/johnosgood/art/qkq5b5xhm10shs2j6h2a.jpg to C:/Users/drizl/AppData/Local/Temp/2/graphlab-drizl/4408/bce92ae3-b3d8-40e8-a9cc-5a9b440a29a0.jpg"
      ]
     },
     "metadata": {},
     "output_type": "display_data"
    },
    {
     "data": {
      "text/html": [
       "<pre>Downloading https://res.cloudinary.com/drizlalpha/image/upload/c_fill,g_center,h_256,w_256/v1453568454/johnosgood/art/ngwqxh8hygirhe98wpqr.jpg to C:/Users/drizl/AppData/Local/Temp/2/graphlab-drizl/4408/4c60a3ea-0e12-45e7-86af-553694482fc1.jpg</pre>"
      ],
      "text/plain": [
       "Downloading https://res.cloudinary.com/drizlalpha/image/upload/c_fill,g_center,h_256,w_256/v1453568454/johnosgood/art/ngwqxh8hygirhe98wpqr.jpg to C:/Users/drizl/AppData/Local/Temp/2/graphlab-drizl/4408/4c60a3ea-0e12-45e7-86af-553694482fc1.jpg"
      ]
     },
     "metadata": {},
     "output_type": "display_data"
    },
    {
     "data": {
      "text/html": [
       "<pre>Downloading https://res.cloudinary.com/drizlalpha/image/upload/c_fill,g_center,h_256,w_256/v1453568456/johnosgood/art/zfid5odoolpo0l2icxx2.jpg to C:/Users/drizl/AppData/Local/Temp/2/graphlab-drizl/4408/37d9fd7f-182e-4770-9731-4e81f6e6ea4c.jpg</pre>"
      ],
      "text/plain": [
       "Downloading https://res.cloudinary.com/drizlalpha/image/upload/c_fill,g_center,h_256,w_256/v1453568456/johnosgood/art/zfid5odoolpo0l2icxx2.jpg to C:/Users/drizl/AppData/Local/Temp/2/graphlab-drizl/4408/37d9fd7f-182e-4770-9731-4e81f6e6ea4c.jpg"
      ]
     },
     "metadata": {},
     "output_type": "display_data"
    },
    {
     "data": {
      "text/html": [
       "<pre>Downloading https://res.cloudinary.com/drizlalpha/image/upload/c_fill,g_center,h_256,w_256/v1453568454/johnosgood/art/exxpvzkarltazk2feyfz.jpg to C:/Users/drizl/AppData/Local/Temp/2/graphlab-drizl/4408/49c5915a-2b81-45e2-8051-8b2fc16a4807.jpg</pre>"
      ],
      "text/plain": [
       "Downloading https://res.cloudinary.com/drizlalpha/image/upload/c_fill,g_center,h_256,w_256/v1453568454/johnosgood/art/exxpvzkarltazk2feyfz.jpg to C:/Users/drizl/AppData/Local/Temp/2/graphlab-drizl/4408/49c5915a-2b81-45e2-8051-8b2fc16a4807.jpg"
      ]
     },
     "metadata": {},
     "output_type": "display_data"
    },
    {
     "data": {
      "text/html": [
       "<pre>Downloading https://res.cloudinary.com/drizlalpha/image/upload/c_fill,g_center,h_256,w_256/v1453568457/johnosgood/art/qcfy01cex7qdsshqrm0g.jpg to C:/Users/drizl/AppData/Local/Temp/2/graphlab-drizl/4408/ddd7d814-1ec8-4a5e-84cc-480756f3346e.jpg</pre>"
      ],
      "text/plain": [
       "Downloading https://res.cloudinary.com/drizlalpha/image/upload/c_fill,g_center,h_256,w_256/v1453568457/johnosgood/art/qcfy01cex7qdsshqrm0g.jpg to C:/Users/drizl/AppData/Local/Temp/2/graphlab-drizl/4408/ddd7d814-1ec8-4a5e-84cc-480756f3346e.jpg"
      ]
     },
     "metadata": {},
     "output_type": "display_data"
    },
    {
     "data": {
      "text/html": [
       "<pre>Downloading https://res.cloudinary.com/drizlalpha/image/upload/c_fill,g_center,h_256,w_256/v1453568458/johnosgood/art/e2nd5fujo47geoas6scv.jpg to C:/Users/drizl/AppData/Local/Temp/2/graphlab-drizl/4408/7a56c45d-70e0-4eda-91f3-d28c0e63fba7.jpg</pre>"
      ],
      "text/plain": [
       "Downloading https://res.cloudinary.com/drizlalpha/image/upload/c_fill,g_center,h_256,w_256/v1453568458/johnosgood/art/e2nd5fujo47geoas6scv.jpg to C:/Users/drizl/AppData/Local/Temp/2/graphlab-drizl/4408/7a56c45d-70e0-4eda-91f3-d28c0e63fba7.jpg"
      ]
     },
     "metadata": {},
     "output_type": "display_data"
    },
    {
     "data": {
      "text/html": [
       "<pre>Downloading https://res.cloudinary.com/drizlalpha/image/upload/c_fill,g_center,h_256,w_256/v1453570157/johnosgood/art/rhgdv5fgbndspx4ijkdf.jpg to C:/Users/drizl/AppData/Local/Temp/2/graphlab-drizl/4408/36463d08-a795-46dd-9d4c-153d10aef046.jpg</pre>"
      ],
      "text/plain": [
       "Downloading https://res.cloudinary.com/drizlalpha/image/upload/c_fill,g_center,h_256,w_256/v1453570157/johnosgood/art/rhgdv5fgbndspx4ijkdf.jpg to C:/Users/drizl/AppData/Local/Temp/2/graphlab-drizl/4408/36463d08-a795-46dd-9d4c-153d10aef046.jpg"
      ]
     },
     "metadata": {},
     "output_type": "display_data"
    },
    {
     "data": {
      "text/html": [
       "<pre>Downloading https://res.cloudinary.com/drizlalpha/image/upload/c_fill,g_center,h_256,w_256/v1453628740/admin/art/comyfmtzx7rf4tmdesjm.jpg to C:/Users/drizl/AppData/Local/Temp/2/graphlab-drizl/4408/e1033d5e-8437-496c-96ed-63366eb280f5.jpg</pre>"
      ],
      "text/plain": [
       "Downloading https://res.cloudinary.com/drizlalpha/image/upload/c_fill,g_center,h_256,w_256/v1453628740/admin/art/comyfmtzx7rf4tmdesjm.jpg to C:/Users/drizl/AppData/Local/Temp/2/graphlab-drizl/4408/e1033d5e-8437-496c-96ed-63366eb280f5.jpg"
      ]
     },
     "metadata": {},
     "output_type": "display_data"
    },
    {
     "data": {
      "text/html": [
       "<pre>Downloading https://res.cloudinary.com/drizlalpha/image/upload/c_fill,g_center,h_256,w_256/v1453629021/admin/art/bzlsgyx3jx3acjjjylnp.jpg to C:/Users/drizl/AppData/Local/Temp/2/graphlab-drizl/4408/7cd2f4a8-d4ed-41d0-9ea9-582c45b5644f.jpg</pre>"
      ],
      "text/plain": [
       "Downloading https://res.cloudinary.com/drizlalpha/image/upload/c_fill,g_center,h_256,w_256/v1453629021/admin/art/bzlsgyx3jx3acjjjylnp.jpg to C:/Users/drizl/AppData/Local/Temp/2/graphlab-drizl/4408/7cd2f4a8-d4ed-41d0-9ea9-582c45b5644f.jpg"
      ]
     },
     "metadata": {},
     "output_type": "display_data"
    },
    {
     "data": {
      "text/html": [
       "<pre>Downloading https://res.cloudinary.com/drizlalpha/image/upload/c_fill,g_center,h_256,w_256/v1453673349/tracyboydart/art/gza2rwzopf843ytinian.jpg to C:/Users/drizl/AppData/Local/Temp/2/graphlab-drizl/4408/e8de7d50-8b20-41e3-ab1b-9dd3774f2386.jpg</pre>"
      ],
      "text/plain": [
       "Downloading https://res.cloudinary.com/drizlalpha/image/upload/c_fill,g_center,h_256,w_256/v1453673349/tracyboydart/art/gza2rwzopf843ytinian.jpg to C:/Users/drizl/AppData/Local/Temp/2/graphlab-drizl/4408/e8de7d50-8b20-41e3-ab1b-9dd3774f2386.jpg"
      ]
     },
     "metadata": {},
     "output_type": "display_data"
    },
    {
     "data": {
      "text/html": [
       "<pre>Downloading https://res.cloudinary.com/drizlalpha/image/upload/c_fill,g_center,h_256,w_256/v1453673350/tracyboydart/art/uwas64rhdvjmdqa9iqan.jpg to C:/Users/drizl/AppData/Local/Temp/2/graphlab-drizl/4408/b0b6fcc4-0dca-43ff-9073-5e9169c6ba18.jpg</pre>"
      ],
      "text/plain": [
       "Downloading https://res.cloudinary.com/drizlalpha/image/upload/c_fill,g_center,h_256,w_256/v1453673350/tracyboydart/art/uwas64rhdvjmdqa9iqan.jpg to C:/Users/drizl/AppData/Local/Temp/2/graphlab-drizl/4408/b0b6fcc4-0dca-43ff-9073-5e9169c6ba18.jpg"
      ]
     },
     "metadata": {},
     "output_type": "display_data"
    },
    {
     "data": {
      "text/html": [
       "<pre>Downloading https://res.cloudinary.com/drizlalpha/image/upload/c_fill,g_center,h_256,w_256/v1453673349/tracyboydart/art/viya1nqwd941oadczbdz.jpg to C:/Users/drizl/AppData/Local/Temp/2/graphlab-drizl/4408/2c031845-300d-41f1-8647-bf0cb4c0d82a.jpg</pre>"
      ],
      "text/plain": [
       "Downloading https://res.cloudinary.com/drizlalpha/image/upload/c_fill,g_center,h_256,w_256/v1453673349/tracyboydart/art/viya1nqwd941oadczbdz.jpg to C:/Users/drizl/AppData/Local/Temp/2/graphlab-drizl/4408/2c031845-300d-41f1-8647-bf0cb4c0d82a.jpg"
      ]
     },
     "metadata": {},
     "output_type": "display_data"
    },
    {
     "data": {
      "text/html": [
       "<pre>Downloading https://res.cloudinary.com/drizlalpha/image/upload/c_fill,g_center,h_256,w_256/v1453673352/tracyboydart/art/svven42vrnekke2xfog9.jpg to C:/Users/drizl/AppData/Local/Temp/2/graphlab-drizl/4408/e0fead41-6781-4d49-a716-93411f4b1052.jpg</pre>"
      ],
      "text/plain": [
       "Downloading https://res.cloudinary.com/drizlalpha/image/upload/c_fill,g_center,h_256,w_256/v1453673352/tracyboydart/art/svven42vrnekke2xfog9.jpg to C:/Users/drizl/AppData/Local/Temp/2/graphlab-drizl/4408/e0fead41-6781-4d49-a716-93411f4b1052.jpg"
      ]
     },
     "metadata": {},
     "output_type": "display_data"
    },
    {
     "data": {
      "text/html": [
       "<pre>Downloading https://res.cloudinary.com/drizlalpha/image/upload/c_fill,g_center,h_256,w_256/v1453673347/tracyboydart/art/f2hagkjlcfvynt8gmhyd.jpg to C:/Users/drizl/AppData/Local/Temp/2/graphlab-drizl/4408/3f3f50b8-fe48-44af-aa10-2d08b3d54dff.jpg</pre>"
      ],
      "text/plain": [
       "Downloading https://res.cloudinary.com/drizlalpha/image/upload/c_fill,g_center,h_256,w_256/v1453673347/tracyboydart/art/f2hagkjlcfvynt8gmhyd.jpg to C:/Users/drizl/AppData/Local/Temp/2/graphlab-drizl/4408/3f3f50b8-fe48-44af-aa10-2d08b3d54dff.jpg"
      ]
     },
     "metadata": {},
     "output_type": "display_data"
    },
    {
     "data": {
      "text/html": [
       "<pre>Downloading https://res.cloudinary.com/drizlalpha/image/upload/c_fill,g_center,h_256,w_256/v1453673352/tracyboydart/art/lpbwiuneydh80hqutwki.jpg to C:/Users/drizl/AppData/Local/Temp/2/graphlab-drizl/4408/8cdf9b76-7d1e-459b-9635-f48e2c49ad7f.jpg</pre>"
      ],
      "text/plain": [
       "Downloading https://res.cloudinary.com/drizlalpha/image/upload/c_fill,g_center,h_256,w_256/v1453673352/tracyboydart/art/lpbwiuneydh80hqutwki.jpg to C:/Users/drizl/AppData/Local/Temp/2/graphlab-drizl/4408/8cdf9b76-7d1e-459b-9635-f48e2c49ad7f.jpg"
      ]
     },
     "metadata": {},
     "output_type": "display_data"
    },
    {
     "data": {
      "text/html": [
       "<pre>Downloading https://res.cloudinary.com/drizlalpha/image/upload/c_fill,g_center,h_256,w_256/v1453673350/tracyboydart/art/j98dqhvrkulzubw3e2sn.jpg to C:/Users/drizl/AppData/Local/Temp/2/graphlab-drizl/4408/1441b72d-c13c-48c9-bf7b-9a76df7a5416.jpg</pre>"
      ],
      "text/plain": [
       "Downloading https://res.cloudinary.com/drizlalpha/image/upload/c_fill,g_center,h_256,w_256/v1453673350/tracyboydart/art/j98dqhvrkulzubw3e2sn.jpg to C:/Users/drizl/AppData/Local/Temp/2/graphlab-drizl/4408/1441b72d-c13c-48c9-bf7b-9a76df7a5416.jpg"
      ]
     },
     "metadata": {},
     "output_type": "display_data"
    },
    {
     "data": {
      "text/html": [
       "<pre>Downloading https://res.cloudinary.com/drizlalpha/image/upload/c_fill,g_center,h_256,w_256/v1453673353/tracyboydart/art/e2jbjoi0zrounftosin5.jpg to C:/Users/drizl/AppData/Local/Temp/2/graphlab-drizl/4408/689cc45a-7fa4-48ae-b3f1-17ef95af68aa.jpg</pre>"
      ],
      "text/plain": [
       "Downloading https://res.cloudinary.com/drizlalpha/image/upload/c_fill,g_center,h_256,w_256/v1453673353/tracyboydart/art/e2jbjoi0zrounftosin5.jpg to C:/Users/drizl/AppData/Local/Temp/2/graphlab-drizl/4408/689cc45a-7fa4-48ae-b3f1-17ef95af68aa.jpg"
      ]
     },
     "metadata": {},
     "output_type": "display_data"
    },
    {
     "data": {
      "text/html": [
       "<pre>Downloading https://res.cloudinary.com/drizlalpha/image/upload/c_fill,g_center,h_256,w_256/v1453673351/tracyboydart/art/sjy0law63afhrb6st98g.jpg to C:/Users/drizl/AppData/Local/Temp/2/graphlab-drizl/4408/5c146364-d184-4634-b322-bfabff5a5ac9.jpg</pre>"
      ],
      "text/plain": [
       "Downloading https://res.cloudinary.com/drizlalpha/image/upload/c_fill,g_center,h_256,w_256/v1453673351/tracyboydart/art/sjy0law63afhrb6st98g.jpg to C:/Users/drizl/AppData/Local/Temp/2/graphlab-drizl/4408/5c146364-d184-4634-b322-bfabff5a5ac9.jpg"
      ]
     },
     "metadata": {},
     "output_type": "display_data"
    },
    {
     "data": {
      "text/html": [
       "<pre>Downloading https://res.cloudinary.com/drizlalpha/image/upload/c_fill,g_center,h_256,w_256/v1453673350/tracyboydart/art/crggym09930hahnsthqj.jpg to C:/Users/drizl/AppData/Local/Temp/2/graphlab-drizl/4408/37a8437c-50c2-42d4-a5bd-43045206b785.jpg</pre>"
      ],
      "text/plain": [
       "Downloading https://res.cloudinary.com/drizlalpha/image/upload/c_fill,g_center,h_256,w_256/v1453673350/tracyboydart/art/crggym09930hahnsthqj.jpg to C:/Users/drizl/AppData/Local/Temp/2/graphlab-drizl/4408/37a8437c-50c2-42d4-a5bd-43045206b785.jpg"
      ]
     },
     "metadata": {},
     "output_type": "display_data"
    },
    {
     "data": {
      "text/html": [
       "<pre>Downloading https://res.cloudinary.com/drizlalpha/image/upload/c_fill,g_center,h_256,w_256/v1453844602/juliadams/art/wisiga16xvvyx1jkdeks.jpg to C:/Users/drizl/AppData/Local/Temp/2/graphlab-drizl/4408/9573aedf-b96a-4927-b6cb-0ec69697933a.jpg</pre>"
      ],
      "text/plain": [
       "Downloading https://res.cloudinary.com/drizlalpha/image/upload/c_fill,g_center,h_256,w_256/v1453844602/juliadams/art/wisiga16xvvyx1jkdeks.jpg to C:/Users/drizl/AppData/Local/Temp/2/graphlab-drizl/4408/9573aedf-b96a-4927-b6cb-0ec69697933a.jpg"
      ]
     },
     "metadata": {},
     "output_type": "display_data"
    },
    {
     "data": {
      "text/html": [
       "<pre>Downloading https://res.cloudinary.com/drizlalpha/image/upload/c_fill,g_center,h_256,w_256/v1453844600/juliadams/art/obr6d2z77kaongnrunqu.jpg to C:/Users/drizl/AppData/Local/Temp/2/graphlab-drizl/4408/4f3c63fb-f3d1-40c7-b65c-c9e5fdf1fdd1.jpg</pre>"
      ],
      "text/plain": [
       "Downloading https://res.cloudinary.com/drizlalpha/image/upload/c_fill,g_center,h_256,w_256/v1453844600/juliadams/art/obr6d2z77kaongnrunqu.jpg to C:/Users/drizl/AppData/Local/Temp/2/graphlab-drizl/4408/4f3c63fb-f3d1-40c7-b65c-c9e5fdf1fdd1.jpg"
      ]
     },
     "metadata": {},
     "output_type": "display_data"
    },
    {
     "data": {
      "text/html": [
       "<pre>Downloading https://res.cloudinary.com/drizlalpha/image/upload/c_fill,g_center,h_256,w_256/v1453844602/juliadams/art/chfcjwaginryguhoyxip.jpg to C:/Users/drizl/AppData/Local/Temp/2/graphlab-drizl/4408/e1994215-32ae-4372-a981-48f955375802.jpg</pre>"
      ],
      "text/plain": [
       "Downloading https://res.cloudinary.com/drizlalpha/image/upload/c_fill,g_center,h_256,w_256/v1453844602/juliadams/art/chfcjwaginryguhoyxip.jpg to C:/Users/drizl/AppData/Local/Temp/2/graphlab-drizl/4408/e1994215-32ae-4372-a981-48f955375802.jpg"
      ]
     },
     "metadata": {},
     "output_type": "display_data"
    },
    {
     "data": {
      "text/html": [
       "<pre>Downloading https://res.cloudinary.com/drizlalpha/image/upload/c_fill,g_center,h_256,w_256/v1453857994/bborcher/art/v3tsvh0orfbbt1ghsmxs.jpg to C:/Users/drizl/AppData/Local/Temp/2/graphlab-drizl/4408/45fb49e8-9099-42dd-8e79-aba4e0bff299.jpg</pre>"
      ],
      "text/plain": [
       "Downloading https://res.cloudinary.com/drizlalpha/image/upload/c_fill,g_center,h_256,w_256/v1453857994/bborcher/art/v3tsvh0orfbbt1ghsmxs.jpg to C:/Users/drizl/AppData/Local/Temp/2/graphlab-drizl/4408/45fb49e8-9099-42dd-8e79-aba4e0bff299.jpg"
      ]
     },
     "metadata": {},
     "output_type": "display_data"
    },
    {
     "data": {
      "text/html": [
       "<pre>Downloading https://res.cloudinary.com/drizlalpha/image/upload/c_fill,g_center,h_256,w_256/v1453858938/bborcher/art/dlcuh5n6sejhff29t21z.jpg to C:/Users/drizl/AppData/Local/Temp/2/graphlab-drizl/4408/07ba0ff9-2660-4c8e-8155-415a5921cfa4.jpg</pre>"
      ],
      "text/plain": [
       "Downloading https://res.cloudinary.com/drizlalpha/image/upload/c_fill,g_center,h_256,w_256/v1453858938/bborcher/art/dlcuh5n6sejhff29t21z.jpg to C:/Users/drizl/AppData/Local/Temp/2/graphlab-drizl/4408/07ba0ff9-2660-4c8e-8155-415a5921cfa4.jpg"
      ]
     },
     "metadata": {},
     "output_type": "display_data"
    },
    {
     "data": {
      "text/html": [
       "<pre>Downloading https://res.cloudinary.com/drizlalpha/image/upload/c_fill,g_center,h_256,w_256/v1453859059/bborcher/art/fejqrrlpwhqogbvfhfie.jpg to C:/Users/drizl/AppData/Local/Temp/2/graphlab-drizl/4408/c5f4eafb-2f8f-48f9-b66d-f13a4a3079ab.jpg</pre>"
      ],
      "text/plain": [
       "Downloading https://res.cloudinary.com/drizlalpha/image/upload/c_fill,g_center,h_256,w_256/v1453859059/bborcher/art/fejqrrlpwhqogbvfhfie.jpg to C:/Users/drizl/AppData/Local/Temp/2/graphlab-drizl/4408/c5f4eafb-2f8f-48f9-b66d-f13a4a3079ab.jpg"
      ]
     },
     "metadata": {},
     "output_type": "display_data"
    },
    {
     "data": {
      "text/html": [
       "<pre>Downloading https://res.cloudinary.com/drizlalpha/image/upload/c_fill,g_center,h_256,w_256/v1453859093/bborcher/art/an0nsui7dcqwuwx4ypqr.jpg to C:/Users/drizl/AppData/Local/Temp/2/graphlab-drizl/4408/b3717800-5b9f-46db-a641-08157a6ca482.jpg</pre>"
      ],
      "text/plain": [
       "Downloading https://res.cloudinary.com/drizlalpha/image/upload/c_fill,g_center,h_256,w_256/v1453859093/bborcher/art/an0nsui7dcqwuwx4ypqr.jpg to C:/Users/drizl/AppData/Local/Temp/2/graphlab-drizl/4408/b3717800-5b9f-46db-a641-08157a6ca482.jpg"
      ]
     },
     "metadata": {},
     "output_type": "display_data"
    },
    {
     "data": {
      "text/html": [
       "<pre>Downloading https://res.cloudinary.com/drizlalpha/image/upload/c_fill,g_center,h_256,w_256/v1453859090/bborcher/art/req8klulwmthpygrwtum.jpg to C:/Users/drizl/AppData/Local/Temp/2/graphlab-drizl/4408/084fea7b-bf45-423a-b295-74a4f5cde499.jpg</pre>"
      ],
      "text/plain": [
       "Downloading https://res.cloudinary.com/drizlalpha/image/upload/c_fill,g_center,h_256,w_256/v1453859090/bborcher/art/req8klulwmthpygrwtum.jpg to C:/Users/drizl/AppData/Local/Temp/2/graphlab-drizl/4408/084fea7b-bf45-423a-b295-74a4f5cde499.jpg"
      ]
     },
     "metadata": {},
     "output_type": "display_data"
    },
    {
     "data": {
      "text/html": [
       "<pre>Downloading https://res.cloudinary.com/drizlalpha/image/upload/c_fill,g_center,h_256,w_256/v1453859473/bborcher/art/xxeqreinhdi17w42j2p3.jpg to C:/Users/drizl/AppData/Local/Temp/2/graphlab-drizl/4408/39db6edd-4a09-4a1d-8cdd-3cd2da5c4191.jpg</pre>"
      ],
      "text/plain": [
       "Downloading https://res.cloudinary.com/drizlalpha/image/upload/c_fill,g_center,h_256,w_256/v1453859473/bborcher/art/xxeqreinhdi17w42j2p3.jpg to C:/Users/drizl/AppData/Local/Temp/2/graphlab-drizl/4408/39db6edd-4a09-4a1d-8cdd-3cd2da5c4191.jpg"
      ]
     },
     "metadata": {},
     "output_type": "display_data"
    },
    {
     "data": {
      "text/html": [
       "<pre>Downloading https://res.cloudinary.com/drizlalpha/image/upload/c_fill,g_center,h_256,w_256/v1453859617/bborcher/art/c7bzatdaa9gsjqmijbya.jpg to C:/Users/drizl/AppData/Local/Temp/2/graphlab-drizl/4408/ee0d4ccb-bea9-4b95-a37c-3a366cd41d78.jpg</pre>"
      ],
      "text/plain": [
       "Downloading https://res.cloudinary.com/drizlalpha/image/upload/c_fill,g_center,h_256,w_256/v1453859617/bborcher/art/c7bzatdaa9gsjqmijbya.jpg to C:/Users/drizl/AppData/Local/Temp/2/graphlab-drizl/4408/ee0d4ccb-bea9-4b95-a37c-3a366cd41d78.jpg"
      ]
     },
     "metadata": {},
     "output_type": "display_data"
    },
    {
     "data": {
      "text/html": [
       "<pre>Downloading https://res.cloudinary.com/drizlalpha/image/upload/c_fill,g_center,h_256,w_256/v1453859653/bborcher/art/nudgvvu13az5i1cvzoyl.jpg to C:/Users/drizl/AppData/Local/Temp/2/graphlab-drizl/4408/6c8c3b37-a2a6-4379-87bf-f23c30ca315c.jpg</pre>"
      ],
      "text/plain": [
       "Downloading https://res.cloudinary.com/drizlalpha/image/upload/c_fill,g_center,h_256,w_256/v1453859653/bborcher/art/nudgvvu13az5i1cvzoyl.jpg to C:/Users/drizl/AppData/Local/Temp/2/graphlab-drizl/4408/6c8c3b37-a2a6-4379-87bf-f23c30ca315c.jpg"
      ]
     },
     "metadata": {},
     "output_type": "display_data"
    },
    {
     "data": {
      "text/html": [
       "<pre>Downloading https://res.cloudinary.com/drizlalpha/image/upload/c_fill,g_center,h_256,w_256/v1453859652/bborcher/art/lvzupmqp1qbwbgkr6kgs.jpg to C:/Users/drizl/AppData/Local/Temp/2/graphlab-drizl/4408/2c59b0a4-5eba-459c-973f-5c24e33fbe3e.jpg</pre>"
      ],
      "text/plain": [
       "Downloading https://res.cloudinary.com/drizlalpha/image/upload/c_fill,g_center,h_256,w_256/v1453859652/bborcher/art/lvzupmqp1qbwbgkr6kgs.jpg to C:/Users/drizl/AppData/Local/Temp/2/graphlab-drizl/4408/2c59b0a4-5eba-459c-973f-5c24e33fbe3e.jpg"
      ]
     },
     "metadata": {},
     "output_type": "display_data"
    },
    {
     "data": {
      "text/html": [
       "<pre>Downloading https://res.cloudinary.com/drizlalpha/image/upload/c_fill,g_center,h_256,w_256/v1453861077/bborcher/art/b1tfkrxycpgca7s7jbow.jpg to C:/Users/drizl/AppData/Local/Temp/2/graphlab-drizl/4408/ea82f7f8-2906-42d7-a8a1-73e9972a92b5.jpg</pre>"
      ],
      "text/plain": [
       "Downloading https://res.cloudinary.com/drizlalpha/image/upload/c_fill,g_center,h_256,w_256/v1453861077/bborcher/art/b1tfkrxycpgca7s7jbow.jpg to C:/Users/drizl/AppData/Local/Temp/2/graphlab-drizl/4408/ea82f7f8-2906-42d7-a8a1-73e9972a92b5.jpg"
      ]
     },
     "metadata": {},
     "output_type": "display_data"
    },
    {
     "data": {
      "text/html": [
       "<pre>Downloading https://res.cloudinary.com/drizlalpha/image/upload/c_fill,g_center,h_256,w_256/v1453861097/bborcher/art/or4rkesuudgvqcrmv5e2.jpg to C:/Users/drizl/AppData/Local/Temp/2/graphlab-drizl/4408/79fa652d-199d-47bb-95f6-f802aa992cb5.jpg</pre>"
      ],
      "text/plain": [
       "Downloading https://res.cloudinary.com/drizlalpha/image/upload/c_fill,g_center,h_256,w_256/v1453861097/bborcher/art/or4rkesuudgvqcrmv5e2.jpg to C:/Users/drizl/AppData/Local/Temp/2/graphlab-drizl/4408/79fa652d-199d-47bb-95f6-f802aa992cb5.jpg"
      ]
     },
     "metadata": {},
     "output_type": "display_data"
    },
    {
     "data": {
      "text/html": [
       "<pre>Downloading https://res.cloudinary.com/drizlalpha/image/upload/c_fill,g_center,h_256,w_256/v1453920655/sdemarest/art/mrutpf1gfv7skfwoaqvi.jpg to C:/Users/drizl/AppData/Local/Temp/2/graphlab-drizl/4408/d0a08717-4dd9-43a4-9d0a-0b55fdcb42a6.jpg</pre>"
      ],
      "text/plain": [
       "Downloading https://res.cloudinary.com/drizlalpha/image/upload/c_fill,g_center,h_256,w_256/v1453920655/sdemarest/art/mrutpf1gfv7skfwoaqvi.jpg to C:/Users/drizl/AppData/Local/Temp/2/graphlab-drizl/4408/d0a08717-4dd9-43a4-9d0a-0b55fdcb42a6.jpg"
      ]
     },
     "metadata": {},
     "output_type": "display_data"
    },
    {
     "data": {
      "text/html": [
       "<pre>Downloading https://res.cloudinary.com/drizlalpha/image/upload/c_fill,g_center,h_256,w_256/v1453944706/gailart/art/rssxsgykvzshhpe5nfb2.jpg to C:/Users/drizl/AppData/Local/Temp/2/graphlab-drizl/4408/f74948b8-d082-4776-99e4-fe923fb0a1d5.jpg</pre>"
      ],
      "text/plain": [
       "Downloading https://res.cloudinary.com/drizlalpha/image/upload/c_fill,g_center,h_256,w_256/v1453944706/gailart/art/rssxsgykvzshhpe5nfb2.jpg to C:/Users/drizl/AppData/Local/Temp/2/graphlab-drizl/4408/f74948b8-d082-4776-99e4-fe923fb0a1d5.jpg"
      ]
     },
     "metadata": {},
     "output_type": "display_data"
    },
    {
     "data": {
      "text/html": [
       "<pre>Downloading https://res.cloudinary.com/drizlalpha/image/upload/c_fill,g_center,h_256,w_256/v1453945237/gailart/art/b1exabp18yyrpd5jfbbp.jpg to C:/Users/drizl/AppData/Local/Temp/2/graphlab-drizl/4408/fe533b28-14b2-42ad-92b3-884d8db84897.jpg</pre>"
      ],
      "text/plain": [
       "Downloading https://res.cloudinary.com/drizlalpha/image/upload/c_fill,g_center,h_256,w_256/v1453945237/gailart/art/b1exabp18yyrpd5jfbbp.jpg to C:/Users/drizl/AppData/Local/Temp/2/graphlab-drizl/4408/fe533b28-14b2-42ad-92b3-884d8db84897.jpg"
      ]
     },
     "metadata": {},
     "output_type": "display_data"
    },
    {
     "data": {
      "text/html": [
       "<pre>Downloading https://res.cloudinary.com/drizlalpha/image/upload/c_fill,g_center,h_256,w_256/v1453945674/gailart/art/uvlq3kbheenjpxqsbv56.jpg to C:/Users/drizl/AppData/Local/Temp/2/graphlab-drizl/4408/8fff4a88-a0f5-4769-9668-d177828138b8.jpg</pre>"
      ],
      "text/plain": [
       "Downloading https://res.cloudinary.com/drizlalpha/image/upload/c_fill,g_center,h_256,w_256/v1453945674/gailart/art/uvlq3kbheenjpxqsbv56.jpg to C:/Users/drizl/AppData/Local/Temp/2/graphlab-drizl/4408/8fff4a88-a0f5-4769-9668-d177828138b8.jpg"
      ]
     },
     "metadata": {},
     "output_type": "display_data"
    },
    {
     "data": {
      "text/html": [
       "<pre>Downloading https://res.cloudinary.com/drizlalpha/image/upload/c_fill,g_center,h_256,w_256/v1453945769/gailart/art/rutvvmjwuzr7c6hbqhlv.jpg to C:/Users/drizl/AppData/Local/Temp/2/graphlab-drizl/4408/48d79943-523d-4e78-a2c8-db2a3fc5d2bc.jpg</pre>"
      ],
      "text/plain": [
       "Downloading https://res.cloudinary.com/drizlalpha/image/upload/c_fill,g_center,h_256,w_256/v1453945769/gailart/art/rutvvmjwuzr7c6hbqhlv.jpg to C:/Users/drizl/AppData/Local/Temp/2/graphlab-drizl/4408/48d79943-523d-4e78-a2c8-db2a3fc5d2bc.jpg"
      ]
     },
     "metadata": {},
     "output_type": "display_data"
    },
    {
     "data": {
      "text/html": [
       "<pre>Downloading https://res.cloudinary.com/drizlalpha/image/upload/c_fill,g_center,h_256,w_256/v1453945881/gailart/art/pd1rwtkhvvkunmpgarbr.jpg to C:/Users/drizl/AppData/Local/Temp/2/graphlab-drizl/4408/24c48cae-d14a-47a0-90a0-919806902d46.jpg</pre>"
      ],
      "text/plain": [
       "Downloading https://res.cloudinary.com/drizlalpha/image/upload/c_fill,g_center,h_256,w_256/v1453945881/gailart/art/pd1rwtkhvvkunmpgarbr.jpg to C:/Users/drizl/AppData/Local/Temp/2/graphlab-drizl/4408/24c48cae-d14a-47a0-90a0-919806902d46.jpg"
      ]
     },
     "metadata": {},
     "output_type": "display_data"
    },
    {
     "data": {
      "text/html": [
       "<pre>Downloading https://res.cloudinary.com/drizlalpha/image/upload/c_fill,g_center,h_256,w_256/v1453946240/gailart/art/xxvnwctuwmbdnyl0mkzu.jpg to C:/Users/drizl/AppData/Local/Temp/2/graphlab-drizl/4408/c3c6f893-4e47-4ae8-a7c5-0dc7d48db4d9.jpg</pre>"
      ],
      "text/plain": [
       "Downloading https://res.cloudinary.com/drizlalpha/image/upload/c_fill,g_center,h_256,w_256/v1453946240/gailart/art/xxvnwctuwmbdnyl0mkzu.jpg to C:/Users/drizl/AppData/Local/Temp/2/graphlab-drizl/4408/c3c6f893-4e47-4ae8-a7c5-0dc7d48db4d9.jpg"
      ]
     },
     "metadata": {},
     "output_type": "display_data"
    },
    {
     "data": {
      "text/html": [
       "<pre>Downloading https://res.cloudinary.com/drizlalpha/image/upload/c_fill,g_center,h_256,w_256/v1454010507/sandyhaight/art/xvayymtpvcx7kgzmrk5w.jpg to C:/Users/drizl/AppData/Local/Temp/2/graphlab-drizl/4408/e5f7069c-0c7a-4205-ae00-8edb51d9c0b9.jpg</pre>"
      ],
      "text/plain": [
       "Downloading https://res.cloudinary.com/drizlalpha/image/upload/c_fill,g_center,h_256,w_256/v1454010507/sandyhaight/art/xvayymtpvcx7kgzmrk5w.jpg to C:/Users/drizl/AppData/Local/Temp/2/graphlab-drizl/4408/e5f7069c-0c7a-4205-ae00-8edb51d9c0b9.jpg"
      ]
     },
     "metadata": {},
     "output_type": "display_data"
    },
    {
     "data": {
      "text/html": [
       "<pre>Downloading https://res.cloudinary.com/drizlalpha/image/upload/c_fill,g_center,h_256,w_256/v1454010500/sandyhaight/art/ec1ixswwq155jk3nmtdm.jpg to C:/Users/drizl/AppData/Local/Temp/2/graphlab-drizl/4408/840a8da6-7972-4ddf-9429-e3af4948bf9e.jpg</pre>"
      ],
      "text/plain": [
       "Downloading https://res.cloudinary.com/drizlalpha/image/upload/c_fill,g_center,h_256,w_256/v1454010500/sandyhaight/art/ec1ixswwq155jk3nmtdm.jpg to C:/Users/drizl/AppData/Local/Temp/2/graphlab-drizl/4408/840a8da6-7972-4ddf-9429-e3af4948bf9e.jpg"
      ]
     },
     "metadata": {},
     "output_type": "display_data"
    },
    {
     "data": {
      "text/html": [
       "<pre>Downloading https://res.cloudinary.com/drizlalpha/image/upload/c_fill,g_center,h_256,w_256/v1454010571/sandyhaight/art/bp9fjdiddlvfehjgbod1.jpg to C:/Users/drizl/AppData/Local/Temp/2/graphlab-drizl/4408/ad6bc420-b7cd-4479-b014-f2f6e874ff9a.jpg</pre>"
      ],
      "text/plain": [
       "Downloading https://res.cloudinary.com/drizlalpha/image/upload/c_fill,g_center,h_256,w_256/v1454010571/sandyhaight/art/bp9fjdiddlvfehjgbod1.jpg to C:/Users/drizl/AppData/Local/Temp/2/graphlab-drizl/4408/ad6bc420-b7cd-4479-b014-f2f6e874ff9a.jpg"
      ]
     },
     "metadata": {},
     "output_type": "display_data"
    },
    {
     "data": {
      "text/html": [
       "<pre>Downloading https://res.cloudinary.com/drizlalpha/image/upload/c_fill,g_center,h_256,w_256/v1454010513/sandyhaight/art/yxzde2urafzlmapftewx.jpg to C:/Users/drizl/AppData/Local/Temp/2/graphlab-drizl/4408/bc89473e-0448-46b9-8492-9360a339b3cf.jpg</pre>"
      ],
      "text/plain": [
       "Downloading https://res.cloudinary.com/drizlalpha/image/upload/c_fill,g_center,h_256,w_256/v1454010513/sandyhaight/art/yxzde2urafzlmapftewx.jpg to C:/Users/drizl/AppData/Local/Temp/2/graphlab-drizl/4408/bc89473e-0448-46b9-8492-9360a339b3cf.jpg"
      ]
     },
     "metadata": {},
     "output_type": "display_data"
    }
   ],
   "source": [
    "image_sarray = url_sarray.apply(lambda x: gl.Image(x))\n",
    "images = gl.SFrame({'image':image_sarray})"
   ]
  },
  {
   "cell_type": "code",
   "execution_count": 25,
   "metadata": {
    "collapsed": false
   },
   "outputs": [
    {
     "data": {
      "text/html": [
       "<pre>Downloading http://s3.amazonaws.com/dato-datasets/deeplearning/imagenet_model_iter45/dir_archive.ini to C:/Users/drizl/AppData/Local/Temp/2/graphlab-drizl/4408/b3afcd5d-8763-43be-91cb-4a84ee5c83c7.ini</pre>"
      ],
      "text/plain": [
       "Downloading http://s3.amazonaws.com/dato-datasets/deeplearning/imagenet_model_iter45/dir_archive.ini to C:/Users/drizl/AppData/Local/Temp/2/graphlab-drizl/4408/b3afcd5d-8763-43be-91cb-4a84ee5c83c7.ini"
      ]
     },
     "metadata": {},
     "output_type": "display_data"
    },
    {
     "data": {
      "text/html": [
       "<pre>Downloading http://s3.amazonaws.com/dato-datasets/deeplearning/imagenet_model_iter45/objects.bin to C:/Users/drizl/AppData/Local/Temp/2/graphlab-drizl/4408/341b006c-7570-4e3f-827e-5f8cd9e31997.bin</pre>"
      ],
      "text/plain": [
       "Downloading http://s3.amazonaws.com/dato-datasets/deeplearning/imagenet_model_iter45/objects.bin to C:/Users/drizl/AppData/Local/Temp/2/graphlab-drizl/4408/341b006c-7570-4e3f-827e-5f8cd9e31997.bin"
      ]
     },
     "metadata": {},
     "output_type": "display_data"
    }
   ],
   "source": [
    "pretrained_model = gl.load_model('http://s3.amazonaws.com/dato-datasets/deeplearning/imagenet_model_iter45')"
   ]
  },
  {
   "cell_type": "code",
   "execution_count": 26,
   "metadata": {
    "collapsed": false
   },
   "outputs": [
    {
     "data": {
      "text/html": [
       "<pre>Starting brute force nearest neighbors model training.</pre>"
      ],
      "text/plain": [
       "Starting brute force nearest neighbors model training."
      ]
     },
     "metadata": {},
     "output_type": "display_data"
    }
   ],
   "source": [
    "images['extracted_features'] = pretrained_model.extract_features(images)\n",
    "nearest_neighbor_model = graphlab.nearest_neighbors.create(images, features=['extracted_features'])"
   ]
  },
  {
   "cell_type": "code",
   "execution_count": 50,
   "metadata": {
    "collapsed": false
   },
   "outputs": [
    {
     "ename": "TypeError",
     "evalue": "Input 'dataset' must be an SFrame.",
     "output_type": "error",
     "traceback": [
      "\u001b[1;31m---------------------------------------------------------------------------\u001b[0m",
      "\u001b[1;31mTypeError\u001b[0m                                 Traceback (most recent call last)",
      "\u001b[1;32m<ipython-input-50-c063018f114f>\u001b[0m in \u001b[0;36m<module>\u001b[1;34m()\u001b[0m\n\u001b[1;32m----> 1\u001b[1;33m \u001b[0mclusters\u001b[0m \u001b[1;33m=\u001b[0m \u001b[0mgraphlab\u001b[0m\u001b[1;33m.\u001b[0m\u001b[0mkmeans\u001b[0m\u001b[1;33m.\u001b[0m\u001b[0mcreate\u001b[0m\u001b[1;33m(\u001b[0m\u001b[0mimages\u001b[0m\u001b[1;33m[\u001b[0m\u001b[1;34m'extracted_features'\u001b[0m\u001b[1;33m]\u001b[0m\u001b[1;33m,\u001b[0m \u001b[0mnum_clusters\u001b[0m\u001b[1;33m=\u001b[0m\u001b[1;36m8\u001b[0m\u001b[1;33m)\u001b[0m\u001b[1;33m\u001b[0m\u001b[0m\n\u001b[0m",
      "\u001b[1;32mC:\\Users\\drizl\\Anaconda2\\envs\\dato-env\\lib\\site-packages\\graphlab\\toolkits\\clustering\\kmeans.pyc\u001b[0m in \u001b[0;36mcreate\u001b[1;34m(dataset, num_clusters, features, label, initial_centers, max_iterations, batch_size, verbose)\u001b[0m\n\u001b[0;32m    592\u001b[0m \u001b[1;33m\u001b[0m\u001b[0m\n\u001b[0;32m    593\u001b[0m     \u001b[1;31m## Validate the input dataset and initial centers.\u001b[0m\u001b[1;33m\u001b[0m\u001b[1;33m\u001b[0m\u001b[0m\n\u001b[1;32m--> 594\u001b[1;33m     \u001b[0m_validate_dataset\u001b[0m\u001b[1;33m(\u001b[0m\u001b[0mdataset\u001b[0m\u001b[1;33m)\u001b[0m\u001b[1;33m\u001b[0m\u001b[0m\n\u001b[0m\u001b[0;32m    595\u001b[0m \u001b[1;33m\u001b[0m\u001b[0m\n\u001b[0;32m    596\u001b[0m     \u001b[1;32mif\u001b[0m \u001b[0minitial_centers\u001b[0m \u001b[1;32mis\u001b[0m \u001b[1;32mnot\u001b[0m \u001b[0mNone\u001b[0m\u001b[1;33m:\u001b[0m\u001b[1;33m\u001b[0m\u001b[0m\n",
      "\u001b[1;32mC:\\Users\\drizl\\Anaconda2\\envs\\dato-env\\lib\\site-packages\\graphlab\\toolkits\\clustering\\kmeans.pyc\u001b[0m in \u001b[0;36m_validate_dataset\u001b[1;34m(dataset)\u001b[0m\n\u001b[0;32m     28\u001b[0m     \"\"\"\n\u001b[0;32m     29\u001b[0m     \u001b[1;32mif\u001b[0m \u001b[1;32mnot\u001b[0m \u001b[1;33m(\u001b[0m\u001b[0misinstance\u001b[0m\u001b[1;33m(\u001b[0m\u001b[0mdataset\u001b[0m\u001b[1;33m,\u001b[0m \u001b[0m_SFrame\u001b[0m\u001b[1;33m)\u001b[0m\u001b[1;33m)\u001b[0m\u001b[1;33m:\u001b[0m\u001b[1;33m\u001b[0m\u001b[0m\n\u001b[1;32m---> 30\u001b[1;33m         \u001b[1;32mraise\u001b[0m \u001b[0mTypeError\u001b[0m\u001b[1;33m(\u001b[0m\u001b[1;34m\"Input 'dataset' must be an SFrame.\"\u001b[0m\u001b[1;33m)\u001b[0m\u001b[1;33m\u001b[0m\u001b[0m\n\u001b[0m\u001b[0;32m     31\u001b[0m \u001b[1;33m\u001b[0m\u001b[0m\n\u001b[0;32m     32\u001b[0m     \u001b[1;32mif\u001b[0m \u001b[0mdataset\u001b[0m\u001b[1;33m.\u001b[0m\u001b[0mnum_rows\u001b[0m\u001b[1;33m(\u001b[0m\u001b[1;33m)\u001b[0m \u001b[1;33m==\u001b[0m \u001b[1;36m0\u001b[0m \u001b[1;32mor\u001b[0m \u001b[0mdataset\u001b[0m\u001b[1;33m.\u001b[0m\u001b[0mnum_cols\u001b[0m\u001b[1;33m(\u001b[0m\u001b[1;33m)\u001b[0m \u001b[1;33m==\u001b[0m \u001b[1;36m0\u001b[0m\u001b[1;33m:\u001b[0m\u001b[1;33m\u001b[0m\u001b[0m\n",
      "\u001b[1;31mTypeError\u001b[0m: Input 'dataset' must be an SFrame."
     ]
    }
   ],
   "source": [
    "clusters = graphlab.kmeans.create(images['extracted_features'], num_clusters=8)"
   ]
  },
  {
   "cell_type": "code",
   "execution_count": 27,
   "metadata": {
    "collapsed": false,
    "scrolled": true
   },
   "outputs": [
    {
     "data": {
      "text/html": [
       "<pre>Starting blockwise querying.</pre>"
      ],
      "text/plain": [
       "Starting blockwise querying."
      ]
     },
     "metadata": {},
     "output_type": "display_data"
    },
    {
     "data": {
      "text/html": [
       "<pre>max rows per data block: 7668</pre>"
      ],
      "text/plain": [
       "max rows per data block: 7668"
      ]
     },
     "metadata": {},
     "output_type": "display_data"
    },
    {
     "data": {
      "text/html": [
       "<pre>number of reference data blocks: 2</pre>"
      ],
      "text/plain": [
       "number of reference data blocks: 2"
      ]
     },
     "metadata": {},
     "output_type": "display_data"
    },
    {
     "data": {
      "text/html": [
       "<pre>number of query data blocks: 1</pre>"
      ],
      "text/plain": [
       "number of query data blocks: 1"
      ]
     },
     "metadata": {},
     "output_type": "display_data"
    },
    {
     "data": {
      "text/html": [
       "<pre>+--------------+---------+-------------+--------------+</pre>"
      ],
      "text/plain": [
       "+--------------+---------+-------------+--------------+"
      ]
     },
     "metadata": {},
     "output_type": "display_data"
    },
    {
     "data": {
      "text/html": [
       "<pre>| Query points | # Pairs | % Complete. | Elapsed Time |</pre>"
      ],
      "text/plain": [
       "| Query points | # Pairs | % Complete. | Elapsed Time |"
      ]
     },
     "metadata": {},
     "output_type": "display_data"
    },
    {
     "data": {
      "text/html": [
       "<pre>+--------------+---------+-------------+--------------+</pre>"
      ],
      "text/plain": [
       "+--------------+---------+-------------+--------------+"
      ]
     },
     "metadata": {},
     "output_type": "display_data"
    },
    {
     "data": {
      "text/html": [
       "<pre>| 511          | 130816  | 50.0978     | 1.02s        |</pre>"
      ],
      "text/plain": [
       "| 511          | 130816  | 50.0978     | 1.02s        |"
      ]
     },
     "metadata": {},
     "output_type": "display_data"
    },
    {
     "data": {
      "text/html": [
       "<pre>| Done         | 261121  | 100         | 1.26s        |</pre>"
      ],
      "text/plain": [
       "| Done         | 261121  | 100         | 1.26s        |"
      ]
     },
     "metadata": {},
     "output_type": "display_data"
    },
    {
     "data": {
      "text/html": [
       "<pre>+--------------+---------+-------------+--------------+</pre>"
      ],
      "text/plain": [
       "+--------------+---------+-------------+--------------+"
      ]
     },
     "metadata": {},
     "output_type": "display_data"
    }
   ],
   "source": [
    "similar_images = nearest_neighbor_model.query(images, k = 2)"
   ]
  },
  {
   "cell_type": "code",
   "execution_count": 28,
   "metadata": {
    "collapsed": false
   },
   "outputs": [
    {
     "data": {
      "text/html": [
       "<pre>Batch size is larger than the input dataset. Switching to an exact Kmeans method.</pre>"
      ],
      "text/plain": [
       "Batch size is larger than the input dataset. Switching to an exact Kmeans method."
      ]
     },
     "metadata": {},
     "output_type": "display_data"
    },
    {
     "data": {
      "text/html": [
       "<pre>Choosing initial cluster centers with Kmeans++.</pre>"
      ],
      "text/plain": [
       "Choosing initial cluster centers with Kmeans++."
      ]
     },
     "metadata": {},
     "output_type": "display_data"
    },
    {
     "data": {
      "text/html": [
       "<pre>+---------------+-----------+</pre>"
      ],
      "text/plain": [
       "+---------------+-----------+"
      ]
     },
     "metadata": {},
     "output_type": "display_data"
    },
    {
     "data": {
      "text/html": [
       "<pre>| Center number | Row index |</pre>"
      ],
      "text/plain": [
       "| Center number | Row index |"
      ]
     },
     "metadata": {},
     "output_type": "display_data"
    },
    {
     "data": {
      "text/html": [
       "<pre>+---------------+-----------+</pre>"
      ],
      "text/plain": [
       "+---------------+-----------+"
      ]
     },
     "metadata": {},
     "output_type": "display_data"
    },
    {
     "data": {
      "text/html": [
       "<pre>| 0             | 19        |</pre>"
      ],
      "text/plain": [
       "| 0             | 19        |"
      ]
     },
     "metadata": {},
     "output_type": "display_data"
    },
    {
     "data": {
      "text/html": [
       "<pre>| 1             | 818       |</pre>"
      ],
      "text/plain": [
       "| 1             | 818       |"
      ]
     },
     "metadata": {},
     "output_type": "display_data"
    },
    {
     "data": {
      "text/html": [
       "<pre>| 2             | 17        |</pre>"
      ],
      "text/plain": [
       "| 2             | 17        |"
      ]
     },
     "metadata": {},
     "output_type": "display_data"
    },
    {
     "data": {
      "text/html": [
       "<pre>| 3             | 426       |</pre>"
      ],
      "text/plain": [
       "| 3             | 426       |"
      ]
     },
     "metadata": {},
     "output_type": "display_data"
    },
    {
     "data": {
      "text/html": [
       "<pre>| 4             | 4         |</pre>"
      ],
      "text/plain": [
       "| 4             | 4         |"
      ]
     },
     "metadata": {},
     "output_type": "display_data"
    },
    {
     "data": {
      "text/html": [
       "<pre>| 5             | 589       |</pre>"
      ],
      "text/plain": [
       "| 5             | 589       |"
      ]
     },
     "metadata": {},
     "output_type": "display_data"
    },
    {
     "data": {
      "text/html": [
       "<pre>+---------------+-----------+</pre>"
      ],
      "text/plain": [
       "+---------------+-----------+"
      ]
     },
     "metadata": {},
     "output_type": "display_data"
    },
    {
     "data": {
      "text/html": [
       "<pre>Starting kmeans model training.</pre>"
      ],
      "text/plain": [
       "Starting kmeans model training."
      ]
     },
     "metadata": {},
     "output_type": "display_data"
    },
    {
     "data": {
      "text/html": [
       "<pre>Assigning points to initial cluster centers.</pre>"
      ],
      "text/plain": [
       "Assigning points to initial cluster centers."
      ]
     },
     "metadata": {},
     "output_type": "display_data"
    },
    {
     "data": {
      "text/html": [
       "<pre>+-----------+-------------------------------+</pre>"
      ],
      "text/plain": [
       "+-----------+-------------------------------+"
      ]
     },
     "metadata": {},
     "output_type": "display_data"
    },
    {
     "data": {
      "text/html": [
       "<pre>| Iteration | Number of changed assignments |</pre>"
      ],
      "text/plain": [
       "| Iteration | Number of changed assignments |"
      ]
     },
     "metadata": {},
     "output_type": "display_data"
    },
    {
     "data": {
      "text/html": [
       "<pre>+-----------+-------------------------------+</pre>"
      ],
      "text/plain": [
       "+-----------+-------------------------------+"
      ]
     },
     "metadata": {},
     "output_type": "display_data"
    },
    {
     "data": {
      "text/html": [
       "<pre>| 1         | 114                           |</pre>"
      ],
      "text/plain": [
       "| 1         | 114                           |"
      ]
     },
     "metadata": {},
     "output_type": "display_data"
    },
    {
     "data": {
      "text/html": [
       "<pre>| 2         | 44                            |</pre>"
      ],
      "text/plain": [
       "| 2         | 44                            |"
      ]
     },
     "metadata": {},
     "output_type": "display_data"
    },
    {
     "data": {
      "text/html": [
       "<pre>| 3         | 20                            |</pre>"
      ],
      "text/plain": [
       "| 3         | 20                            |"
      ]
     },
     "metadata": {},
     "output_type": "display_data"
    },
    {
     "data": {
      "text/html": [
       "<pre>| 4         | 9                             |</pre>"
      ],
      "text/plain": [
       "| 4         | 9                             |"
      ]
     },
     "metadata": {},
     "output_type": "display_data"
    },
    {
     "data": {
      "text/html": [
       "<pre>| 5         | 8                             |</pre>"
      ],
      "text/plain": [
       "| 5         | 8                             |"
      ]
     },
     "metadata": {},
     "output_type": "display_data"
    },
    {
     "data": {
      "text/html": [
       "<pre>| 6         | 6                             |</pre>"
      ],
      "text/plain": [
       "| 6         | 6                             |"
      ]
     },
     "metadata": {},
     "output_type": "display_data"
    },
    {
     "data": {
      "text/html": [
       "<pre>| 7         | 9                             |</pre>"
      ],
      "text/plain": [
       "| 7         | 9                             |"
      ]
     },
     "metadata": {},
     "output_type": "display_data"
    },
    {
     "data": {
      "text/html": [
       "<pre>| 8         | 5                             |</pre>"
      ],
      "text/plain": [
       "| 8         | 5                             |"
      ]
     },
     "metadata": {},
     "output_type": "display_data"
    },
    {
     "data": {
      "text/html": [
       "<pre>| 9         | 1                             |</pre>"
      ],
      "text/plain": [
       "| 9         | 1                             |"
      ]
     },
     "metadata": {},
     "output_type": "display_data"
    },
    {
     "data": {
      "text/html": [
       "<pre>| 10        | 0                             |</pre>"
      ],
      "text/plain": [
       "| 10        | 0                             |"
      ]
     },
     "metadata": {},
     "output_type": "display_data"
    },
    {
     "data": {
      "text/html": [
       "<pre>+-----------+-------------------------------+</pre>"
      ],
      "text/plain": [
       "+-----------+-------------------------------+"
      ]
     },
     "metadata": {},
     "output_type": "display_data"
    }
   ],
   "source": [
    "model = graphlab.kmeans.create(similar_images, num_clusters=10)"
   ]
  },
  {
   "cell_type": "code",
   "execution_count": 29,
   "metadata": {
    "collapsed": true
   },
   "outputs": [],
   "source": [
    "similar_images = similar_images[(similar_images['query_label'] != similar_images['reference_label'])]"
   ]
  },
  {
   "cell_type": "code",
   "execution_count": 30,
   "metadata": {
    "collapsed": true
   },
   "outputs": [],
   "source": [
    "similar_images = similar_images[(similar_images['query_label'] < similar_images['reference_label'])]"
   ]
  },
  {
   "cell_type": "code",
   "execution_count": 31,
   "metadata": {
    "collapsed": true
   },
   "outputs": [],
   "source": [
    "#similar_images = similar_images = similar_images.sort('query_label')"
   ]
  },
  {
   "cell_type": "code",
   "execution_count": 32,
   "metadata": {
    "collapsed": true
   },
   "outputs": [],
   "source": [
    "similar_images = similar_images = similar_images.sort('distance')"
   ]
  },
  {
   "cell_type": "code",
   "execution_count": 51,
   "metadata": {
    "collapsed": false,
    "scrolled": true
   },
   "outputs": [
    {
     "name": "stdout",
     "output_type": "stream",
     "text": [
      "+-------------+-----------------+-------------------+------+\n",
      "| query_label | reference_label |      distance     | rank |\n",
      "+-------------+-----------------+-------------------+------+\n",
      "|     141     |       145       |        0.0        |  2   |\n",
      "|     347     |       498       |        0.0        |  2   |\n",
      "|      75     |       150       |        0.0        |  2   |\n",
      "|     295     |       296       |        0.0        |  2   |\n",
      "|     281     |       283       |        0.0        |  2   |\n",
      "|      7      |        51       |        0.0        |  2   |\n",
      "|     475     |       476       |        0.0        |  2   |\n",
      "|     172     |       173       | 1.34869915235e-06 |  2   |\n",
      "|      0      |       510       | 1.65181236989e-06 |  2   |\n",
      "|     462     |       463       |    8.8355192084   |  2   |\n",
      "|     398     |       399       |    13.06062528    |  2   |\n",
      "|      91     |       410       |   16.3926048487   |  2   |\n",
      "|      94     |       411       |   16.8428294144   |  2   |\n",
      "|     333     |       338       |   16.8630084321   |  2   |\n",
      "|     366     |       372       |   18.0545652088   |  2   |\n",
      "|     166     |       168       |   19.3264675919   |  2   |\n",
      "|      2      |        11       |   19.8387063232   |  2   |\n",
      "|      93     |       410       |   20.8468687423   |  2   |\n",
      "|     143     |       146       |    20.913106292   |  2   |\n",
      "|      10     |       456       |   20.9616377744   |  2   |\n",
      "|     316     |       317       |   21.2546999407   |  2   |\n",
      "|     148     |       166       |   21.9530752342   |  2   |\n",
      "|     147     |       167       |   22.0120415549   |  2   |\n",
      "|      12     |        13       |   22.2523914967   |  2   |\n",
      "|     284     |       285       |   22.7926426371   |  2   |\n",
      "|     163     |       168       |   23.2328715278   |  2   |\n",
      "|     126     |       127       |    24.000449549   |  2   |\n",
      "|     161     |       162       |   24.6102873883   |  2   |\n",
      "|     416     |       418       |   24.7437614129   |  2   |\n",
      "|      92     |        93       |   24.8278629661   |  2   |\n",
      "+-------------+-----------------+-------------------+------+\n",
      "[239 rows x 4 columns]\n",
      "\n"
     ]
    }
   ],
   "source": [
    "similar_images.print_rows(num_rows=30, num_columns=20)"
   ]
  },
  {
   "cell_type": "code",
   "execution_count": 34,
   "metadata": {
    "collapsed": true
   },
   "outputs": [],
   "source": [
    "#for b in mylist:\n",
    "   #b['query_label'] = int(b['query_label'])\n",
    "   #c = b['query_label']\n",
    "   #b['reference_label'] = int(b['reference_label']) \n",
    "   #d = b['reference_label']\n",
    "   #b['url1'] = url_list[c]\n",
    "   #b['url2'] = url_list[d]"
   ]
  },
  {
   "cell_type": "code",
   "execution_count": 52,
   "metadata": {
    "collapsed": false
   },
   "outputs": [
    {
     "data": {
      "text/plain": [
       "u'https://res.cloudinary.com/drizlalpha/image/upload/c_fill,g_center,h_256,w_256/v1454041347/serene/art/nwdscimw35dsmagyb8ij.jpg'"
      ]
     },
     "execution_count": 52,
     "metadata": {},
     "output_type": "execute_result"
    }
   ],
   "source": [
    "url_list[141]"
   ]
  },
  {
   "cell_type": "code",
   "execution_count": 53,
   "metadata": {
    "collapsed": false
   },
   "outputs": [
    {
     "data": {
      "text/plain": [
       "u'https://res.cloudinary.com/drizlalpha/image/upload/c_fill,g_center,h_256,w_256/v1454043465/serene/art/ct8bhaaaxfh3bqoarf0o.jpg'"
      ]
     },
     "execution_count": 53,
     "metadata": {},
     "output_type": "execute_result"
    }
   ],
   "source": [
    "url_list[145]"
   ]
  },
  {
   "cell_type": "code",
   "execution_count": 49,
   "metadata": {
    "collapsed": false
   },
   "outputs": [
    {
     "name": "stdout",
     "output_type": "stream",
     "text": [
      "+--------+------------+---------------+\n",
      "| row_id | cluster_id |    distance   |\n",
      "+--------+------------+---------------+\n",
      "|   0    |     4      | 61.6961479187 |\n",
      "|   1    |     0      | 120.016120911 |\n",
      "|   2    |     4      | 60.3536109924 |\n",
      "|   3    |     2      | 65.8231124878 |\n",
      "|   4    |     4      | 59.0144271851 |\n",
      "|   5    |     4      | 49.7690467834 |\n",
      "|   6    |     4      | 57.6788215637 |\n",
      "|   7    |     4      | 60.0723953247 |\n",
      "|   8    |     4      | 56.3470497131 |\n",
      "|   9    |     2      | 85.2078857422 |\n",
      "|   10   |     4      | 55.0193977356 |\n",
      "|   11   |     2      | 53.0288047791 |\n",
      "|   12   |     4      | 53.6961631775 |\n",
      "|   13   |     2      | 101.369621277 |\n",
      "|   14   |     4      | 52.3776855469 |\n",
      "|   15   |     4      | 39.9788284302 |\n",
      "|   16   |     4      |  51.06432724  |\n",
      "|   17   |     2      | 100.712387085 |\n",
      "|   18   |     4      | 49.7565040588 |\n",
      "|   19   |     0      | 83.4709854126 |\n",
      "|   20   |     4      | 48.4546546936 |\n",
      "|   21   |     0      | 81.2175521851 |\n",
      "|   22   |     4      | 47.1592750549 |\n",
      "|   23   |     4      | 49.9677009583 |\n",
      "|   24   |     4      | 45.8709182739 |\n",
      "|   25   |     4      | 41.0819969177 |\n",
      "|   26   |     4      | 44.5901908875 |\n",
      "|   27   |     4      | 41.1087799072 |\n",
      "|   28   |     4      | 43.3177680969 |\n",
      "|   29   |     4      | 43.0214271545 |\n",
      "+--------+------------+---------------+\n",
      "[1022 rows x 3 columns]\n",
      "\n"
     ]
    }
   ],
   "source": [
    "model.cluster_id.print_rows(num_rows=30)"
   ]
  },
  {
   "cell_type": "markdown",
   "metadata": {},
   "source": []
  },
  {
   "cell_type": "code",
   "execution_count": 43,
   "metadata": {
    "collapsed": false
   },
   "outputs": [
    {
     "data": {
      "text/plain": [
       "u'https://res.cloudinary.com/artstudiospace/image/upload/c_fill,g_center,h_256,w_256/v1453202634/admin/art/jr4natfkpq3dwmko0rox.jpg'"
      ]
     },
     "execution_count": 43,
     "metadata": {},
     "output_type": "execute_result"
    }
   ],
   "source": [
    "url_list[4]"
   ]
  },
  {
   "cell_type": "code",
   "execution_count": 44,
   "metadata": {
    "collapsed": false
   },
   "outputs": [
    {
     "data": {
      "text/plain": [
       "u'https://res.cloudinary.com/artstudiospace/image/upload/c_fill,g_center,h_256,w_256/v1453202660/admin/art/y1raovmm4y53fijaqowb.jpg'"
      ]
     },
     "execution_count": 44,
     "metadata": {},
     "output_type": "execute_result"
    }
   ],
   "source": [
    "url_list[5]"
   ]
  },
  {
   "cell_type": "code",
   "execution_count": 45,
   "metadata": {
    "collapsed": false
   },
   "outputs": [
    {
     "data": {
      "text/plain": [
       "u'https://res.cloudinary.com/artstudiospace/image/upload/c_fill,g_center,h_256,w_256/v1453202678/admin/art/qi3lajocfk9gjcky7ccc.jpg'"
      ]
     },
     "execution_count": 45,
     "metadata": {},
     "output_type": "execute_result"
    }
   ],
   "source": [
    "url_list[6]"
   ]
  },
  {
   "cell_type": "code",
   "execution_count": 46,
   "metadata": {
    "collapsed": false
   },
   "outputs": [
    {
     "data": {
      "text/plain": [
       "u'https://res.cloudinary.com/artstudiospace/image/upload/c_fill,g_center,h_256,w_256/v1453202689/admin/art/nxk4yk56ubfsdpmojna0.jpg'"
      ]
     },
     "execution_count": 46,
     "metadata": {},
     "output_type": "execute_result"
    }
   ],
   "source": [
    "url_list[7]"
   ]
  },
  {
   "cell_type": "code",
   "execution_count": 47,
   "metadata": {
    "collapsed": false
   },
   "outputs": [
    {
     "data": {
      "text/plain": [
       "u'https://res.cloudinary.com/artstudiospace/image/upload/c_fill,g_center,h_256,w_256/v1453202705/admin/art/wlbmdj1de0kq1k3hz41q.jpg'"
      ]
     },
     "execution_count": 47,
     "metadata": {},
     "output_type": "execute_result"
    }
   ],
   "source": [
    "url_list[8]"
   ]
  },
  {
   "cell_type": "code",
   "execution_count": 48,
   "metadata": {
    "collapsed": false
   },
   "outputs": [
    {
     "data": {
      "text/plain": [
       "u'https://res.cloudinary.com/drizlalpha/image/upload/c_fill,g_center,h_256,w_256/v1453352628/skmartist/art/mv5nt3uezdqpt6nd1ola.jpg'"
      ]
     },
     "execution_count": 48,
     "metadata": {},
     "output_type": "execute_result"
    }
   ],
   "source": [
    "url_list[9]"
   ]
  },
  {
   "cell_type": "code",
   "execution_count": null,
   "metadata": {
    "collapsed": true
   },
   "outputs": [],
   "source": []
  }
 ],
 "metadata": {
  "kernelspec": {
   "display_name": "Python 2",
   "language": "python",
   "name": "python2"
  },
  "language_info": {
   "codemirror_mode": {
    "name": "ipython",
    "version": 2
   },
   "file_extension": ".py",
   "mimetype": "text/x-python",
   "name": "python",
   "nbconvert_exporter": "python",
   "pygments_lexer": "ipython2",
   "version": "2.7.10"
  }
 },
 "nbformat": 4,
 "nbformat_minor": 0
}
